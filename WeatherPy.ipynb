{
 "cells": [
  {
   "cell_type": "code",
   "execution_count": 4,
   "metadata": {},
   "outputs": [],
   "source": [
    "# Import the dependencies.\n",
    "import pandas as pd\n",
    "import matplotlib.pyplot as plt\n",
    "import numpy as np"
   ]
  },
  {
   "cell_type": "code",
   "execution_count": 5,
   "metadata": {},
   "outputs": [
    {
     "data": {
      "text/plain": [
       "<zip at 0x7fc4cbd8d5a0>"
      ]
     },
     "execution_count": 5,
     "metadata": {},
     "output_type": "execute_result"
    }
   ],
   "source": [
    "# Create a set of random latitude and longitude combinations.\n",
    "lats = np.random.uniform(low=-90.000, high=90.000, size=1500)\n",
    "lngs = np.random.uniform(low=-180.000, high=180.000, size=1500)\n",
    "lat_lngs = zip(lats, lngs)\n",
    "lat_lngs "
   ]
  },
  {
   "cell_type": "code",
   "execution_count": 6,
   "metadata": {},
   "outputs": [],
   "source": [
    "# Add the latitudes and longitudes to a list.\n",
    "coordinates = list(lat_lngs)"
   ]
  },
  {
   "cell_type": "code",
   "execution_count": 7,
   "metadata": {},
   "outputs": [],
   "source": [
    "# Use the citipy module to determine city based on latitude and longitude.\n",
    "from citipy import citipy"
   ]
  },
  {
   "cell_type": "code",
   "execution_count": 8,
   "metadata": {},
   "outputs": [
    {
     "data": {
      "text/plain": [
       "633"
      ]
     },
     "execution_count": 8,
     "metadata": {},
     "output_type": "execute_result"
    }
   ],
   "source": [
    "# Create a list for holding the cities.\n",
    "cities = []\n",
    "# Identify the nearest city for each latitude and longitude combination.\n",
    "for coordinate in coordinates:\n",
    "    city = citipy.nearest_city(coordinate[0], coordinate[1]).city_name\n",
    "    \n",
    "    # If the city is unique, then we will add it to the cities list.\n",
    "    if city not in cities:\n",
    "        cities.append(city)\n",
    "# Print the city count to confirm sufficient count.\n",
    "len(cities)"
   ]
  },
  {
   "cell_type": "code",
   "execution_count": 9,
   "metadata": {},
   "outputs": [
    {
     "data": {
      "text/plain": [
       "'2.22.0'"
      ]
     },
     "execution_count": 9,
     "metadata": {},
     "output_type": "execute_result"
    }
   ],
   "source": [
    "import requests\n",
    "requests.__version__"
   ]
  },
  {
   "cell_type": "code",
   "execution_count": 10,
   "metadata": {},
   "outputs": [],
   "source": [
    "# Import the requests library.\n",
    "import requests\n",
    "# Import the datetime module from the datetime library.\n",
    "from datetime import datetime\n",
    "\n",
    "# Import the API key.\n",
    "from config import weather_api_key"
   ]
  },
  {
   "cell_type": "code",
   "execution_count": 11,
   "metadata": {},
   "outputs": [
    {
     "name": "stdout",
     "output_type": "stream",
     "text": [
      "http://api.openweathermap.org/data/2.5/weather?units=Imperial&APPID=11def79fe227e1ddceb0f892565d0af1\n"
     ]
    }
   ],
   "source": [
    "# Starting URL for Weather Map API Call.\n",
    "url = \"http://api.openweathermap.org/data/2.5/weather?units=Imperial&APPID=\" + weather_api_key\n",
    "print(url)\n"
   ]
  },
  {
   "cell_type": "code",
   "execution_count": 12,
   "metadata": {},
   "outputs": [
    {
     "name": "stdout",
     "output_type": "stream",
     "text": [
      "http://api.openweathermap.org/data/2.5/weather?units=Imperial&APPID=11def79fe227e1ddceb0f892565d0af1&q=boston\n"
     ]
    }
   ],
   "source": [
    "# Create an endpoint URL for a city.\n",
    "city_url = url + \"&q=\" + \"boston\"\n",
    "print(city_url)"
   ]
  },
  {
   "cell_type": "code",
   "execution_count": 13,
   "metadata": {},
   "outputs": [
    {
     "data": {
      "text/plain": [
       "<Response [200]>"
      ]
     },
     "execution_count": 13,
     "metadata": {},
     "output_type": "execute_result"
    }
   ],
   "source": [
    "# Make a 'Get' request for the city weather.\n",
    "city_weather = requests.get(city_url)\n",
    "city_weather"
   ]
  },
  {
   "cell_type": "code",
   "execution_count": 14,
   "metadata": {},
   "outputs": [
    {
     "data": {
      "text/plain": [
       "'{\"coord\":{\"lon\":-71.06,\"lat\":42.36},\"weather\":[{\"id\":802,\"main\":\"Clouds\",\"description\":\"scattered clouds\",\"icon\":\"03n\"}],\"base\":\"stations\",\"main\":{\"temp\":76.96,\"feels_like\":72.91,\"temp_min\":73,\"temp_max\":80.01,\"pressure\":1014,\"humidity\":41},\"visibility\":16093,\"wind\":{\"speed\":8.05,\"deg\":210},\"clouds\":{\"all\":40},\"dt\":1593134687,\"sys\":{\"type\":1,\"id\":3486,\"country\":\"US\",\"sunrise\":1593076124,\"sunset\":1593131105},\"timezone\":-14400,\"id\":4930956,\"name\":\"Boston\",\"cod\":200}'"
      ]
     },
     "execution_count": 14,
     "metadata": {},
     "output_type": "execute_result"
    }
   ],
   "source": [
    "# Get the text of the 'Get' request.\n",
    "city_weather.text"
   ]
  },
  {
   "cell_type": "code",
   "execution_count": 13,
   "metadata": {},
   "outputs": [
    {
     "data": {
      "text/plain": [
       "{'coord': {'lon': -71.06, 'lat': 42.36},\n",
       " 'weather': [{'id': 803,\n",
       "   'main': 'Clouds',\n",
       "   'description': 'broken clouds',\n",
       "   'icon': '04n'}],\n",
       " 'base': 'stations',\n",
       " 'main': {'temp': 73.76,\n",
       "  'feels_like': 73.47,\n",
       "  'temp_min': 69.01,\n",
       "  'temp_max': 77,\n",
       "  'pressure': 1008,\n",
       "  'humidity': 68},\n",
       " 'wind': {'speed': 8.05, 'deg': 320},\n",
       " 'clouds': {'all': 56},\n",
       " 'dt': 1593052102,\n",
       " 'sys': {'type': 1,\n",
       "  'id': 4967,\n",
       "  'country': 'US',\n",
       "  'sunrise': 1592989704,\n",
       "  'sunset': 1593044701},\n",
       " 'timezone': -14400,\n",
       " 'id': 4930956,\n",
       " 'name': 'Boston',\n",
       " 'cod': 200}"
      ]
     },
     "execution_count": 13,
     "metadata": {},
     "output_type": "execute_result"
    }
   ],
   "source": [
    "# Get the JSON text of the 'Get' request.\n",
    "city_weather.json()\n"
   ]
  },
  {
   "cell_type": "code",
   "execution_count": 15,
   "metadata": {},
   "outputs": [
    {
     "name": "stdout",
     "output_type": "stream",
     "text": [
      "City Weather found.\n"
     ]
    }
   ],
   "source": [
    "# Create an endpoint URL for a city.\n",
    "city_url = url + \"&q=\" + \"Auli\"\n",
    "city_weather = requests.get(city_url)\n",
    "if city_weather.status_code == 200:\n",
    "    print(f\"City Weather found.\")\n",
    "else:\n",
    "    print(f\"City weather not found.\")"
   ]
  },
  {
   "cell_type": "code",
   "execution_count": 17,
   "metadata": {},
   "outputs": [
    {
     "data": {
      "text/plain": [
       "{'coord': {'lon': -147.72, 'lat': 64.84},\n",
       " 'weather': [{'id': 800,\n",
       "   'main': 'Clear',\n",
       "   'description': 'clear sky',\n",
       "   'icon': '01d'}],\n",
       " 'base': 'stations',\n",
       " 'main': {'temp': 67.03,\n",
       "  'feels_like': 61.48,\n",
       "  'temp_min': 64.99,\n",
       "  'temp_max': 68,\n",
       "  'pressure': 1004,\n",
       "  'humidity': 30},\n",
       " 'visibility': 16093,\n",
       " 'wind': {'speed': 4.18, 'deg': 285},\n",
       " 'clouds': {'all': 1},\n",
       " 'dt': 1593134893,\n",
       " 'sys': {'type': 1,\n",
       "  'id': 7684,\n",
       "  'country': 'US',\n",
       "  'sunrise': 1593082871,\n",
       "  'sunset': 1593161160},\n",
       " 'timezone': -28800,\n",
       " 'id': 5861897,\n",
       " 'name': 'Fairbanks',\n",
       " 'cod': 200}"
      ]
     },
     "execution_count": 17,
     "metadata": {},
     "output_type": "execute_result"
    }
   ],
   "source": [
    "# Create an endpoint URL for a city.\n",
    "city_url = url + \"&q=\" + \"fairbanks\"\n",
    "city_weather = requests.get(city_url)\n",
    "city_weather.json()"
   ]
  },
  {
   "cell_type": "code",
   "execution_count": 16,
   "metadata": {},
   "outputs": [],
   "source": [
    "# Get the JSON data.\n",
    "boston_data = city_weather.json()"
   ]
  },
  {
   "cell_type": "code",
   "execution_count": 25,
   "metadata": {},
   "outputs": [
    {
     "data": {
      "text/plain": [
       "'clear sky'"
      ]
     },
     "execution_count": 25,
     "metadata": {},
     "output_type": "execute_result"
    }
   ],
   "source": [
    "boston_data['weather'][0]['description']"
   ]
  },
  {
   "cell_type": "code",
   "execution_count": 19,
   "metadata": {},
   "outputs": [],
   "source": [
    "#boston_data['rain']['1h']"
   ]
  },
  {
   "cell_type": "code",
   "execution_count": 20,
   "metadata": {},
   "outputs": [
    {
     "name": "stdout",
     "output_type": "stream",
     "text": [
      "-26.65 15.16 60.8 56 0 5.82\n"
     ]
    }
   ],
   "source": [
    "lat = boston_data[\"coord\"][\"lat\"]\n",
    "lng = boston_data[\"coord\"][\"lon\"]\n",
    "max_temp = boston_data[\"main\"][\"temp_max\"]\n",
    "humidity = boston_data[\"main\"][\"humidity\"]\n",
    "clouds = boston_data[\"clouds\"][\"all\"]\n",
    "wind = boston_data[\"wind\"][\"speed\"]\n",
    "print(lat, lng, max_temp, humidity, clouds, wind)"
   ]
  },
  {
   "cell_type": "code",
   "execution_count": 21,
   "metadata": {},
   "outputs": [
    {
     "data": {
      "text/plain": [
       "'2020-06-25 02:31:40'"
      ]
     },
     "execution_count": 21,
     "metadata": {},
     "output_type": "execute_result"
    }
   ],
   "source": [
    "# Import the datetime module from the datetime library.\n",
    "from datetime import datetime\n",
    "# Get the date from the JSON file.\n",
    "date = boston_data[\"dt\"]\n",
    "# Convert the UTC date to a date format with year, month, day, hours, minutes, and seconds.\n",
    "datetime.utcfromtimestamp(date).strftime('%Y-%m-%d %H:%M:%S')\n"
   ]
  },
  {
   "cell_type": "code",
   "execution_count": 22,
   "metadata": {},
   "outputs": [
    {
     "name": "stdout",
     "output_type": "stream",
     "text": [
      "Beginning Data Retrieval     \n",
      "-----------------------------\n"
     ]
    }
   ],
   "source": [
    "# Create an empty list to hold the weather data.\n",
    "city_data = []\n",
    "# Print the beginning of the logging.\n",
    "print(\"Beginning Data Retrieval     \")\n",
    "print(\"-----------------------------\")\n",
    "\n",
    "# Create counters.\n",
    "record_count = 1\n",
    "set_count = 1\n"
   ]
  },
  {
   "cell_type": "code",
   "execution_count": 23,
   "metadata": {},
   "outputs": [],
   "source": [
    "# Loop through all the cities in our list.\n",
    "for i in range(len(cities)):\n",
    "\n",
    "    # Group cities in sets of 50 for logging purposes.\n",
    "    if (i % 50 == 0 and i >= 50):\n",
    "        set_count += 1\n",
    "        record_count = 1\n",
    "    # Create endpoint URL with each city.\n",
    "    city_url = url + \"&q=\" + \"i\"\n"
   ]
  },
  {
   "cell_type": "code",
   "execution_count": 24,
   "metadata": {},
   "outputs": [
    {
     "name": "stdout",
     "output_type": "stream",
     "text": [
      "Processing Record 1 of Set 13 | imbituba\n",
      "Processing Record 2 of Set 13 | asau\n",
      "Processing Record 3 of Set 13 | tasiilaq\n",
      "Processing Record 4 of Set 13 | rikitea\n",
      "Processing Record 5 of Set 13 | bethel\n",
      "Processing Record 6 of Set 13 | meulaboh\n",
      "Processing Record 7 of Set 13 | vaini\n",
      "Processing Record 8 of Set 13 | ahipara\n",
      "Processing Record 9 of Set 13 | busselton\n",
      "Processing Record 10 of Set 13 | marcona\n",
      "City not found. Skipping...\n",
      "Processing Record 11 of Set 13 | garowe\n",
      "Processing Record 12 of Set 13 | umzimvubu\n",
      "City not found. Skipping...\n",
      "Processing Record 13 of Set 13 | sao filipe\n",
      "Processing Record 14 of Set 13 | riwaka\n",
      "Processing Record 15 of Set 13 | thinadhoo\n",
      "Processing Record 16 of Set 13 | tilichiki\n",
      "Processing Record 17 of Set 13 | nikolskoye\n",
      "Processing Record 18 of Set 13 | san juan\n",
      "Processing Record 19 of Set 13 | ponta do sol\n",
      "Processing Record 20 of Set 13 | samusu\n",
      "City not found. Skipping...\n",
      "Processing Record 21 of Set 13 | georgetown\n",
      "Processing Record 22 of Set 13 | alyangula\n",
      "Processing Record 23 of Set 13 | solovetskiy\n",
      "City not found. Skipping...\n",
      "Processing Record 24 of Set 13 | esterhazy\n",
      "Processing Record 25 of Set 13 | qaanaaq\n",
      "Processing Record 26 of Set 13 | cayenne\n",
      "Processing Record 27 of Set 13 | haimen\n",
      "Processing Record 28 of Set 13 | kupang\n",
      "Processing Record 29 of Set 13 | jacareacanga\n",
      "Processing Record 30 of Set 13 | geraldton\n",
      "Processing Record 31 of Set 13 | hermanus\n",
      "Processing Record 32 of Set 13 | cabo san lucas\n",
      "Processing Record 33 of Set 13 | iqaluit\n",
      "Processing Record 34 of Set 13 | hilo\n",
      "Processing Record 35 of Set 13 | butaritari\n",
      "Processing Record 36 of Set 13 | verkhnevilyuysk\n",
      "Processing Record 37 of Set 13 | east london\n",
      "Processing Record 38 of Set 13 | victoria\n",
      "Processing Record 39 of Set 13 | clyde river\n",
      "Processing Record 40 of Set 13 | constitucion\n",
      "Processing Record 41 of Set 13 | upernavik\n",
      "Processing Record 42 of Set 13 | arys\n",
      "Processing Record 43 of Set 13 | lasa\n",
      "Processing Record 44 of Set 13 | trofors\n",
      "Processing Record 45 of Set 13 | saint-philippe\n",
      "Processing Record 46 of Set 13 | puerto ayora\n",
      "Processing Record 47 of Set 13 | jamestown\n",
      "Processing Record 48 of Set 13 | montevideo\n",
      "Processing Record 49 of Set 13 | marzuq\n",
      "Processing Record 50 of Set 13 | san carlos\n",
      "Processing Record 1 of Set 14 | lebu\n",
      "Processing Record 2 of Set 14 | concordia\n",
      "Processing Record 3 of Set 14 | paita\n",
      "Processing Record 4 of Set 14 | arraial do cabo\n",
      "Processing Record 5 of Set 14 | cape town\n",
      "Processing Record 6 of Set 14 | brae\n",
      "Processing Record 7 of Set 14 | albany\n",
      "Processing Record 8 of Set 14 | huaidian\n",
      "Processing Record 9 of Set 14 | ribeira grande\n",
      "Processing Record 10 of Set 14 | hobart\n",
      "Processing Record 11 of Set 14 | dabola\n",
      "Processing Record 12 of Set 14 | mehamn\n",
      "Processing Record 13 of Set 14 | port alfred\n",
      "Processing Record 14 of Set 14 | lavrentiya\n",
      "Processing Record 15 of Set 14 | malwan\n",
      "City not found. Skipping...\n",
      "Processing Record 16 of Set 14 | avarua\n",
      "Processing Record 17 of Set 14 | guapore\n",
      "Processing Record 18 of Set 14 | ust-kuyga\n",
      "Processing Record 19 of Set 14 | morden\n",
      "Processing Record 20 of Set 14 | bengkulu\n",
      "Processing Record 21 of Set 14 | malkangiri\n",
      "Processing Record 22 of Set 14 | vila franca do campo\n",
      "Processing Record 23 of Set 14 | nizhneyansk\n",
      "City not found. Skipping...\n",
      "Processing Record 24 of Set 14 | kapaa\n",
      "Processing Record 25 of Set 14 | leningradskiy\n",
      "Processing Record 26 of Set 14 | skjervoy\n",
      "Processing Record 27 of Set 14 | lompoc\n",
      "Processing Record 28 of Set 14 | henties bay\n",
      "Processing Record 29 of Set 14 | nome\n",
      "Processing Record 30 of Set 14 | ushuaia\n",
      "Processing Record 31 of Set 14 | mataura\n",
      "Processing Record 32 of Set 14 | mlowo\n",
      "Processing Record 33 of Set 14 | new norfolk\n",
      "Processing Record 34 of Set 14 | nehe\n",
      "Processing Record 35 of Set 14 | kristinehamn\n",
      "Processing Record 36 of Set 14 | chokurdakh\n",
      "Processing Record 37 of Set 14 | santa isabel do rio negro\n",
      "Processing Record 38 of Set 14 | ostrovnoy\n",
      "Processing Record 39 of Set 14 | tenabo\n",
      "Processing Record 40 of Set 14 | yellowknife\n",
      "Processing Record 41 of Set 14 | cubara\n",
      "Processing Record 42 of Set 14 | bandarbeyla\n",
      "Processing Record 43 of Set 14 | saleaula\n",
      "City not found. Skipping...\n",
      "Processing Record 44 of Set 14 | goderich\n",
      "Processing Record 45 of Set 14 | tessalit\n",
      "Processing Record 46 of Set 14 | barentsburg\n",
      "City not found. Skipping...\n",
      "Processing Record 47 of Set 14 | ilam\n",
      "Processing Record 48 of Set 14 | vangaindrano\n",
      "Processing Record 49 of Set 14 | nalut\n",
      "Processing Record 50 of Set 14 | sentyabrskiy\n",
      "City not found. Skipping...\n",
      "Processing Record 1 of Set 15 | saldanha\n",
      "Processing Record 2 of Set 15 | longyearbyen\n",
      "Processing Record 3 of Set 15 | inyonga\n",
      "Processing Record 4 of Set 15 | tkibuli\n",
      "Processing Record 5 of Set 15 | port elizabeth\n",
      "Processing Record 6 of Set 15 | palauig\n",
      "Processing Record 7 of Set 15 | aswan\n",
      "Processing Record 8 of Set 15 | daru\n",
      "Processing Record 9 of Set 15 | tiznit\n",
      "Processing Record 10 of Set 15 | tera\n",
      "Processing Record 11 of Set 15 | gushikawa\n",
      "Processing Record 12 of Set 15 | jasper\n",
      "Processing Record 13 of Set 15 | hofn\n",
      "Processing Record 14 of Set 15 | wylie\n",
      "Processing Record 15 of Set 15 | coquimbo\n",
      "Processing Record 16 of Set 15 | saskylakh\n",
      "Processing Record 17 of Set 15 | san policarpo\n",
      "Processing Record 18 of Set 15 | jumla\n",
      "Processing Record 19 of Set 15 | sandwick\n",
      "Processing Record 20 of Set 15 | gawler\n",
      "Processing Record 21 of Set 15 | kahului\n",
      "Processing Record 22 of Set 15 | mahebourg\n",
      "Processing Record 23 of Set 15 | atuona\n",
      "Processing Record 24 of Set 15 | barrow\n",
      "Processing Record 25 of Set 15 | coahuayana\n",
      "Processing Record 26 of Set 15 | bredasdorp\n",
      "Processing Record 27 of Set 15 | san patricio\n",
      "Processing Record 28 of Set 15 | castro\n",
      "Processing Record 29 of Set 15 | bambous virieux\n",
      "Processing Record 30 of Set 15 | osorno\n",
      "Processing Record 31 of Set 15 | punta arenas\n",
      "Processing Record 32 of Set 15 | raudeberg\n",
      "Processing Record 33 of Set 15 | mar del plata\n",
      "Processing Record 34 of Set 15 | mineros\n",
      "Processing Record 35 of Set 15 | la ronge\n",
      "Processing Record 36 of Set 15 | tuktoyaktuk\n",
      "Processing Record 37 of Set 15 | la crosse\n",
      "Processing Record 38 of Set 15 | caramay\n",
      "Processing Record 39 of Set 15 | taolanaro\n",
      "City not found. Skipping...\n",
      "Processing Record 40 of Set 15 | trinidad\n",
      "Processing Record 41 of Set 15 | inirida\n",
      "Processing Record 42 of Set 15 | kirakira\n",
      "Processing Record 43 of Set 15 | arusha\n",
      "Processing Record 44 of Set 15 | khatanga\n",
      "Processing Record 45 of Set 15 | nanortalik\n",
      "Processing Record 46 of Set 15 | kloulklubed\n",
      "Processing Record 47 of Set 15 | kavaratti\n",
      "Processing Record 48 of Set 15 | seoul\n",
      "Processing Record 49 of Set 15 | alice springs\n",
      "Processing Record 50 of Set 15 | ambulu\n",
      "Processing Record 1 of Set 16 | kieta\n",
      "Processing Record 2 of Set 16 | makat\n",
      "Processing Record 3 of Set 16 | auki\n",
      "Processing Record 4 of Set 16 | amderma\n",
      "City not found. Skipping...\n",
      "Processing Record 5 of Set 16 | illoqqortoormiut\n",
      "City not found. Skipping...\n",
      "Processing Record 6 of Set 16 | dinar\n",
      "Processing Record 7 of Set 16 | vikhorevka\n",
      "Processing Record 8 of Set 16 | margate\n",
      "Processing Record 9 of Set 16 | dikson\n",
      "Processing Record 10 of Set 16 | flinders\n",
      "Processing Record 11 of Set 16 | vaitupu\n",
      "City not found. Skipping...\n",
      "Processing Record 12 of Set 16 | coihaique\n",
      "Processing Record 13 of Set 16 | kaitangata\n",
      "Processing Record 14 of Set 16 | isangel\n",
      "Processing Record 15 of Set 16 | kodiak\n",
      "Processing Record 16 of Set 16 | rawson\n",
      "Processing Record 17 of Set 16 | portland\n",
      "Processing Record 18 of Set 16 | whitehorse\n",
      "Processing Record 19 of Set 16 | kamenskoye\n",
      "City not found. Skipping...\n",
      "Processing Record 20 of Set 16 | airai\n",
      "Processing Record 21 of Set 16 | agadir\n",
      "Processing Record 22 of Set 16 | upata\n",
      "Processing Record 23 of Set 16 | ligayan\n",
      "Processing Record 24 of Set 16 | taltal\n",
      "Processing Record 25 of Set 16 | borlange\n",
      "City not found. Skipping...\n",
      "Processing Record 26 of Set 16 | uyovu\n",
      "Processing Record 27 of Set 16 | acapulco\n",
      "Processing Record 28 of Set 16 | provideniya\n",
      "Processing Record 29 of Set 16 | erzin\n",
      "Processing Record 30 of Set 16 | tarko-sale\n",
      "Processing Record 31 of Set 16 | chuy\n",
      "Processing Record 32 of Set 16 | varzelandia\n",
      "Processing Record 33 of Set 16 | tual\n",
      "Processing Record 34 of Set 16 | belushya guba\n",
      "City not found. Skipping...\n",
      "Processing Record 35 of Set 16 | mandera\n"
     ]
    },
    {
     "name": "stdout",
     "output_type": "stream",
     "text": [
      "Processing Record 36 of Set 16 | mys shmidta\n",
      "City not found. Skipping...\n",
      "Processing Record 37 of Set 16 | ilulissat\n",
      "Processing Record 38 of Set 16 | dali\n",
      "Processing Record 39 of Set 16 | haicheng\n",
      "Processing Record 40 of Set 16 | bluff\n",
      "Processing Record 41 of Set 16 | okahandja\n",
      "Processing Record 42 of Set 16 | san andres\n",
      "Processing Record 43 of Set 16 | bistrica\n",
      "Processing Record 44 of Set 16 | zhangye\n",
      "Processing Record 45 of Set 16 | rajmahal\n",
      "Processing Record 46 of Set 16 | doha\n",
      "Processing Record 47 of Set 16 | souillac\n",
      "Processing Record 48 of Set 16 | dalvik\n",
      "Processing Record 49 of Set 16 | piraquara\n",
      "Processing Record 50 of Set 16 | corn island\n",
      "Processing Record 1 of Set 17 | hasaki\n",
      "Processing Record 2 of Set 17 | zyryanka\n",
      "Processing Record 3 of Set 17 | broome\n",
      "Processing Record 4 of Set 17 | tiksi\n",
      "Processing Record 5 of Set 17 | aykhal\n",
      "Processing Record 6 of Set 17 | rivadavia\n",
      "Processing Record 7 of Set 17 | vila velha\n",
      "Processing Record 8 of Set 17 | antalaha\n",
      "Processing Record 9 of Set 17 | kousseri\n",
      "Processing Record 10 of Set 17 | dondo\n",
      "Processing Record 11 of Set 17 | male\n",
      "Processing Record 12 of Set 17 | wonthaggi\n",
      "Processing Record 13 of Set 17 | manta\n",
      "Processing Record 14 of Set 17 | chaozhou\n",
      "Processing Record 15 of Set 17 | buarcos\n",
      "Processing Record 16 of Set 17 | emerald\n",
      "Processing Record 17 of Set 17 | praia da vitoria\n",
      "Processing Record 18 of Set 17 | ancud\n",
      "Processing Record 19 of Set 17 | pisco\n",
      "Processing Record 20 of Set 17 | adrar\n",
      "Processing Record 21 of Set 17 | bonavista\n",
      "Processing Record 22 of Set 17 | boden\n",
      "Processing Record 23 of Set 17 | dinguiraye\n",
      "Processing Record 24 of Set 17 | danjiangkou\n",
      "Processing Record 25 of Set 17 | kavieng\n",
      "Processing Record 26 of Set 17 | hithadhoo\n",
      "Processing Record 27 of Set 17 | waitati\n",
      "Processing Record 28 of Set 17 | andselv\n",
      "City not found. Skipping...\n",
      "Processing Record 29 of Set 17 | sioux lookout\n",
      "Processing Record 30 of Set 17 | thompson\n",
      "Processing Record 31 of Set 17 | sorland\n",
      "Processing Record 32 of Set 17 | igrim\n",
      "Processing Record 33 of Set 17 | nuuk\n",
      "Processing Record 34 of Set 17 | mujiayingzi\n",
      "Processing Record 35 of Set 17 | saint george\n",
      "Processing Record 36 of Set 17 | shimoda\n",
      "Processing Record 37 of Set 17 | severo-kurilsk\n",
      "Processing Record 38 of Set 17 | betare oya\n",
      "Processing Record 39 of Set 17 | carnarvon\n",
      "Processing Record 40 of Set 17 | saint-augustin\n",
      "Processing Record 41 of Set 17 | college\n",
      "Processing Record 42 of Set 17 | chapais\n",
      "Processing Record 43 of Set 17 | lac-megantic\n",
      "Processing Record 44 of Set 17 | tsihombe\n",
      "City not found. Skipping...\n",
      "Processing Record 45 of Set 17 | gashua\n",
      "Processing Record 46 of Set 17 | kazalinsk\n",
      "City not found. Skipping...\n",
      "Processing Record 47 of Set 17 | kemijarvi\n",
      "Processing Record 48 of Set 17 | halifax\n",
      "Processing Record 49 of Set 17 | pushkino\n",
      "Processing Record 50 of Set 17 | tsiroanomandidy\n",
      "Processing Record 1 of Set 18 | palabuhanratu\n",
      "City not found. Skipping...\n",
      "Processing Record 2 of Set 18 | torbay\n",
      "Processing Record 3 of Set 18 | kidal\n",
      "Processing Record 4 of Set 18 | rio grande\n",
      "Processing Record 5 of Set 18 | port blair\n",
      "Processing Record 6 of Set 18 | ashikaga\n",
      "Processing Record 7 of Set 18 | bahir dar\n",
      "Processing Record 8 of Set 18 | north platte\n",
      "Processing Record 9 of Set 18 | sisimiut\n",
      "Processing Record 10 of Set 18 | ukrayinka\n",
      "Processing Record 11 of Set 18 | poya\n",
      "Processing Record 12 of Set 18 | kalanchak\n",
      "Processing Record 13 of Set 18 | qandala\n",
      "Processing Record 14 of Set 18 | payson\n",
      "Processing Record 15 of Set 18 | babanusah\n",
      "City not found. Skipping...\n",
      "Processing Record 16 of Set 18 | arlit\n",
      "Processing Record 17 of Set 18 | ilebo\n",
      "Processing Record 18 of Set 18 | koumac\n",
      "Processing Record 19 of Set 18 | grindavik\n",
      "Processing Record 20 of Set 18 | roma\n",
      "Processing Record 21 of Set 18 | faanui\n",
      "Processing Record 22 of Set 18 | altus\n",
      "Processing Record 23 of Set 18 | korla\n",
      "Processing Record 24 of Set 18 | verkhniy baskunchak\n",
      "Processing Record 25 of Set 18 | kamensk-uralskiy\n",
      "Processing Record 26 of Set 18 | luderitz\n",
      "Processing Record 27 of Set 18 | yulara\n",
      "Processing Record 28 of Set 18 | san ramon\n",
      "Processing Record 29 of Set 18 | sitka\n",
      "Processing Record 30 of Set 18 | catuday\n",
      "Processing Record 31 of Set 18 | alotau\n",
      "City not found. Skipping...\n",
      "Processing Record 32 of Set 18 | san julian\n",
      "Processing Record 33 of Set 18 | filingue\n",
      "Processing Record 34 of Set 18 | poum\n",
      "Processing Record 35 of Set 18 | destin\n",
      "Processing Record 36 of Set 18 | cururupu\n",
      "Processing Record 37 of Set 18 | solnechnyy\n",
      "Processing Record 38 of Set 18 | na klang\n",
      "Processing Record 39 of Set 18 | fare\n",
      "Processing Record 40 of Set 18 | bitkine\n",
      "Processing Record 41 of Set 18 | vestmannaeyjar\n",
      "Processing Record 42 of Set 18 | mahadday weyne\n",
      "City not found. Skipping...\n",
      "Processing Record 43 of Set 18 | loubomo\n",
      "Processing Record 44 of Set 18 | husavik\n",
      "Processing Record 45 of Set 18 | narsaq\n",
      "Processing Record 46 of Set 18 | qasigiannguit\n",
      "Processing Record 47 of Set 18 | francisco morato\n",
      "Processing Record 48 of Set 18 | zuwarah\n",
      "Processing Record 49 of Set 18 | cedar city\n",
      "Processing Record 50 of Set 18 | kruisfontein\n",
      "Processing Record 1 of Set 19 | carndonagh\n",
      "Processing Record 2 of Set 19 | khonuu\n",
      "City not found. Skipping...\n",
      "Processing Record 3 of Set 19 | rocha\n",
      "Processing Record 4 of Set 19 | cumaribo\n",
      "City not found. Skipping...\n",
      "Processing Record 5 of Set 19 | ballina\n",
      "Processing Record 6 of Set 19 | sabinopolis\n",
      "Processing Record 7 of Set 19 | buraydah\n",
      "Processing Record 8 of Set 19 | caravelas\n",
      "Processing Record 9 of Set 19 | podporozhye\n",
      "Processing Record 10 of Set 19 | hambantota\n",
      "Processing Record 11 of Set 19 | sakaiminato\n",
      "Processing Record 12 of Set 19 | nakhon nayok\n",
      "Processing Record 13 of Set 19 | la paz\n",
      "Processing Record 14 of Set 19 | honiara\n",
      "Processing Record 15 of Set 19 | los llanos de aridane\n",
      "Processing Record 16 of Set 19 | tarata\n",
      "Processing Record 17 of Set 19 | sabang\n",
      "Processing Record 18 of Set 19 | praya\n",
      "Processing Record 19 of Set 19 | riyadh\n",
      "Processing Record 20 of Set 19 | tamandare\n",
      "Processing Record 21 of Set 19 | barcelos\n",
      "Processing Record 22 of Set 19 | lorengau\n",
      "Processing Record 23 of Set 19 | toora-khem\n",
      "Processing Record 24 of Set 19 | payo\n",
      "Processing Record 25 of Set 19 | burns lake\n",
      "Processing Record 26 of Set 19 | esperance\n",
      "Processing Record 27 of Set 19 | pevek\n",
      "Processing Record 28 of Set 19 | cidreira\n",
      "Processing Record 29 of Set 19 | saint-francois\n",
      "Processing Record 30 of Set 19 | cherskiy\n",
      "Processing Record 31 of Set 19 | anloga\n",
      "Processing Record 32 of Set 19 | port-gentil\n",
      "Processing Record 33 of Set 19 | zhigansk\n",
      "Processing Record 34 of Set 19 | mangai\n",
      "Processing Record 35 of Set 19 | qaqortoq\n",
      "Processing Record 36 of Set 19 | richards bay\n",
      "Processing Record 37 of Set 19 | vao\n",
      "Processing Record 38 of Set 19 | muriti\n",
      "Processing Record 39 of Set 19 | touros\n",
      "Processing Record 40 of Set 19 | grand river south east\n",
      "City not found. Skipping...\n",
      "Processing Record 41 of Set 19 | kuche\n",
      "City not found. Skipping...\n",
      "Processing Record 42 of Set 19 | fairbanks\n",
      "Processing Record 43 of Set 19 | isiro\n",
      "Processing Record 44 of Set 19 | kristiinankaupunki\n",
      "Processing Record 45 of Set 19 | ankang\n",
      "Processing Record 46 of Set 19 | clovis\n",
      "Processing Record 47 of Set 19 | dunmore town\n",
      "Processing Record 48 of Set 19 | nola\n",
      "Processing Record 49 of Set 19 | sorong\n",
      "Processing Record 50 of Set 19 | tchollire\n",
      "Processing Record 1 of Set 20 | port hardy\n",
      "Processing Record 2 of Set 20 | ondorhaan\n",
      "City not found. Skipping...\n",
      "Processing Record 3 of Set 20 | eloy\n",
      "Processing Record 4 of Set 20 | samalaeulu\n",
      "City not found. Skipping...\n",
      "Processing Record 5 of Set 20 | svetlaya\n",
      "Processing Record 6 of Set 20 | preobrazheniye\n",
      "Processing Record 7 of Set 20 | manado\n",
      "Processing Record 8 of Set 20 | badaojiang\n",
      "City not found. Skipping...\n",
      "Processing Record 9 of Set 20 | chernaya kholunitsa\n",
      "Processing Record 10 of Set 20 | srednekolymsk\n",
      "Processing Record 11 of Set 20 | leh\n",
      "Processing Record 12 of Set 20 | severnyy\n",
      "Processing Record 13 of Set 20 | dongsheng\n",
      "Processing Record 14 of Set 20 | abalak\n",
      "Processing Record 15 of Set 20 | barao de melgaco\n",
      "Processing Record 16 of Set 20 | athabasca\n",
      "Processing Record 17 of Set 20 | nuevitas\n",
      "Processing Record 18 of Set 20 | katsuura\n",
      "Processing Record 19 of Set 20 | galle\n",
      "Processing Record 20 of Set 20 | takoradi\n"
     ]
    },
    {
     "name": "stdout",
     "output_type": "stream",
     "text": [
      "Processing Record 21 of Set 20 | lagos\n",
      "Processing Record 22 of Set 20 | monywa\n",
      "Processing Record 23 of Set 20 | khirkiya\n",
      "Processing Record 24 of Set 20 | rohru\n",
      "Processing Record 25 of Set 20 | pauini\n",
      "Processing Record 26 of Set 20 | avera\n",
      "Processing Record 27 of Set 20 | saint-pierre\n",
      "Processing Record 28 of Set 20 | giresun\n",
      "Processing Record 29 of Set 20 | sinnamary\n",
      "Processing Record 30 of Set 20 | saint-joseph\n",
      "Processing Record 31 of Set 20 | velika kladusa\n",
      "Processing Record 32 of Set 20 | borgosesia\n",
      "Processing Record 33 of Set 20 | tran\n",
      "Processing Record 34 of Set 20 | hami\n",
      "Processing Record 35 of Set 20 | yayva\n",
      "Processing Record 36 of Set 20 | sabzevar\n",
      "Processing Record 37 of Set 20 | totolapan\n",
      "Processing Record 38 of Set 20 | beira\n",
      "Processing Record 39 of Set 20 | fortuna\n",
      "Processing Record 40 of Set 20 | huanren\n",
      "Processing Record 41 of Set 20 | mossendjo\n",
      "Processing Record 42 of Set 20 | nizhniy baskunchak\n",
      "Processing Record 43 of Set 20 | loandjili\n",
      "Processing Record 44 of Set 20 | saint pete beach\n",
      "Processing Record 45 of Set 20 | kaseda\n",
      "Processing Record 46 of Set 20 | fort nelson\n",
      "Processing Record 47 of Set 20 | stornoway\n",
      "Processing Record 48 of Set 20 | san cristobal\n",
      "Processing Record 49 of Set 20 | itaituba\n",
      "Processing Record 50 of Set 20 | buala\n",
      "Processing Record 1 of Set 21 | port lincoln\n",
      "Processing Record 2 of Set 21 | mabaruma\n",
      "Processing Record 3 of Set 21 | barranca\n",
      "Processing Record 4 of Set 21 | scottsbluff\n",
      "Processing Record 5 of Set 21 | beitbridge\n",
      "Processing Record 6 of Set 21 | batagay\n",
      "Processing Record 7 of Set 21 | nioro\n",
      "Processing Record 8 of Set 21 | the pas\n",
      "Processing Record 9 of Set 21 | west bay\n",
      "Processing Record 10 of Set 21 | bilibino\n",
      "Processing Record 11 of Set 21 | norman wells\n",
      "Processing Record 12 of Set 21 | neepawa\n",
      "Processing Record 13 of Set 21 | jinxi\n",
      "Processing Record 14 of Set 21 | klaksvik\n",
      "Processing Record 15 of Set 21 | otradnoye\n",
      "Processing Record 16 of Set 21 | murchison\n",
      "Processing Record 17 of Set 21 | westport\n",
      "Processing Record 18 of Set 21 | tuatapere\n",
      "Processing Record 19 of Set 21 | ginir\n",
      "Processing Record 20 of Set 21 | madingou\n",
      "Processing Record 21 of Set 21 | maragogi\n",
      "Processing Record 22 of Set 21 | xiongzhou\n",
      "Processing Record 23 of Set 21 | miri\n",
      "Processing Record 24 of Set 21 | grand gaube\n",
      "Processing Record 25 of Set 21 | yangambi\n",
      "Processing Record 26 of Set 21 | san jose\n",
      "Processing Record 27 of Set 21 | moba\n",
      "Processing Record 28 of Set 21 | tura\n",
      "Processing Record 29 of Set 21 | stephenville\n",
      "Processing Record 30 of Set 21 | basco\n",
      "Processing Record 31 of Set 21 | areosa\n",
      "Processing Record 32 of Set 21 | torun\n",
      "Processing Record 33 of Set 21 | pangnirtung\n",
      "Processing Record 34 of Set 21 | lincoln\n",
      "Processing Record 35 of Set 21 | ron phibun\n",
      "Processing Record 36 of Set 21 | tumannyy\n",
      "City not found. Skipping...\n",
      "Processing Record 37 of Set 21 | paonta sahib\n",
      "Processing Record 38 of Set 21 | mahina\n",
      "Processing Record 39 of Set 21 | gudur\n",
      "Processing Record 40 of Set 21 | chaumont\n",
      "Processing Record 41 of Set 21 | tadine\n",
      "Processing Record 42 of Set 21 | hollins\n",
      "Processing Record 43 of Set 21 | awbari\n",
      "Processing Record 44 of Set 21 | puerto baquerizo moreno\n",
      "Processing Record 45 of Set 21 | smithers\n",
      "Processing Record 46 of Set 21 | warrnambool\n",
      "Processing Record 47 of Set 21 | inuvik\n",
      "Processing Record 48 of Set 21 | quang ngai\n",
      "Processing Record 49 of Set 21 | lhokseumawe\n",
      "Processing Record 50 of Set 21 | vanimo\n",
      "Processing Record 1 of Set 22 | ambovombe\n",
      "Processing Record 2 of Set 22 | san joaquin\n",
      "Processing Record 3 of Set 22 | warri\n",
      "Processing Record 4 of Set 22 | barguzin\n",
      "Processing Record 5 of Set 22 | ostersund\n",
      "Processing Record 6 of Set 22 | frontera\n",
      "Processing Record 7 of Set 22 | bowen\n",
      "Processing Record 8 of Set 22 | barabinsk\n",
      "Processing Record 9 of Set 22 | beyneu\n",
      "Processing Record 10 of Set 22 | kaluga\n",
      "Processing Record 11 of Set 22 | verkh-usugli\n",
      "Processing Record 12 of Set 22 | matadi\n",
      "Processing Record 13 of Set 22 | namibe\n",
      "Processing Record 14 of Set 22 | kiri buru\n",
      "Processing Record 15 of Set 22 | zelenets\n",
      "Processing Record 16 of Set 22 | puri\n",
      "Processing Record 17 of Set 22 | mount gambier\n",
      "Processing Record 18 of Set 22 | salalah\n",
      "Processing Record 19 of Set 22 | muravlenko\n",
      "Processing Record 20 of Set 22 | bluefields\n",
      "Processing Record 21 of Set 22 | muros\n",
      "Processing Record 22 of Set 22 | marshall\n",
      "Processing Record 23 of Set 22 | adana\n",
      "Processing Record 24 of Set 22 | srikakulam\n",
      "Processing Record 25 of Set 22 | palana\n",
      "Processing Record 26 of Set 22 | fengcheng\n",
      "Processing Record 27 of Set 22 | dingle\n",
      "Processing Record 28 of Set 22 | pimenta bueno\n",
      "Processing Record 29 of Set 22 | kalmar\n",
      "Processing Record 30 of Set 22 | sao jose da coroa grande\n",
      "Processing Record 31 of Set 22 | rognan\n",
      "Processing Record 32 of Set 22 | neiafu\n",
      "Processing Record 33 of Set 22 | vagur\n",
      "Processing Record 34 of Set 22 | alzamay\n",
      "Processing Record 35 of Set 22 | rundu\n",
      "Processing Record 36 of Set 22 | lucea\n",
      "Processing Record 37 of Set 22 | inhambane\n",
      "Processing Record 38 of Set 22 | asfi\n",
      "Processing Record 39 of Set 22 | mackenzie\n",
      "Processing Record 40 of Set 22 | jiaocheng\n",
      "Processing Record 41 of Set 22 | davila\n",
      "Processing Record 42 of Set 22 | porto novo\n",
      "Processing Record 43 of Set 22 | vikersund\n",
      "Processing Record 44 of Set 22 | irtyshskiy\n",
      "Processing Record 45 of Set 22 | noumea\n",
      "Processing Record 46 of Set 22 | sri aman\n",
      "Processing Record 47 of Set 22 | mao\n",
      "Processing Record 48 of Set 22 | rena\n",
      "Processing Record 49 of Set 22 | galiwinku\n",
      "City not found. Skipping...\n",
      "Processing Record 50 of Set 22 | belyy yar\n",
      "Processing Record 1 of Set 23 | sterling\n",
      "Processing Record 2 of Set 23 | sehithwa\n",
      "Processing Record 3 of Set 23 | koslan\n",
      "Processing Record 4 of Set 23 | verkhnyachka\n",
      "Processing Record 5 of Set 23 | cabedelo\n",
      "Processing Record 6 of Set 23 | nizhniy kuranakh\n",
      "Processing Record 7 of Set 23 | tateyama\n",
      "Processing Record 8 of Set 23 | cowansville\n",
      "Processing Record 9 of Set 23 | sistranda\n",
      "Processing Record 10 of Set 23 | mount isa\n",
      "Processing Record 11 of Set 23 | port hedland\n",
      "Processing Record 12 of Set 23 | northam\n",
      "Processing Record 13 of Set 23 | alakurtti\n",
      "Processing Record 14 of Set 23 | codrington\n",
      "Processing Record 15 of Set 23 | bagnes\n",
      "Processing Record 16 of Set 23 | isabela\n",
      "Processing Record 17 of Set 23 | nauta\n",
      "Processing Record 18 of Set 23 | berlevag\n",
      "Processing Record 19 of Set 23 | reefton\n",
      "City not found. Skipping...\n",
      "Processing Record 20 of Set 23 | sumbe\n",
      "Processing Record 21 of Set 23 | havre-saint-pierre\n",
      "Processing Record 22 of Set 23 | tromso\n",
      "Processing Record 23 of Set 23 | talnakh\n",
      "Processing Record 24 of Set 23 | kurtamysh\n",
      "Processing Record 25 of Set 23 | wardha\n",
      "Processing Record 26 of Set 23 | moron\n",
      "Processing Record 27 of Set 23 | thornaby\n",
      "Processing Record 28 of Set 23 | guben\n",
      "Processing Record 29 of Set 23 | jiddah\n",
      "City not found. Skipping...\n",
      "Processing Record 30 of Set 23 | umm lajj\n",
      "Processing Record 31 of Set 23 | namatanai\n",
      "Processing Record 32 of Set 23 | rudsar\n",
      "Processing Record 33 of Set 23 | sayyan\n",
      "Processing Record 34 of Set 23 | charters towers\n",
      "Processing Record 35 of Set 23 | guerrero negro\n",
      "Processing Record 36 of Set 23 | beringovskiy\n",
      "Processing Record 37 of Set 23 | karaul\n",
      "City not found. Skipping...\n",
      "Processing Record 38 of Set 23 | san quintin\n",
      "Processing Record 39 of Set 23 | ternate\n",
      "Processing Record 40 of Set 23 | simbahan\n",
      "Processing Record 41 of Set 23 | bull savanna\n",
      "Processing Record 42 of Set 23 | dwarka\n",
      "Processing Record 43 of Set 23 | mandalgovi\n",
      "Processing Record 44 of Set 23 | genc\n",
      "Processing Record 45 of Set 23 | palembang\n",
      "Processing Record 46 of Set 23 | huarmey\n",
      "Processing Record 47 of Set 23 | yantal\n",
      "Processing Record 48 of Set 23 | attawapiskat\n",
      "City not found. Skipping...\n",
      "Processing Record 49 of Set 23 | temaraia\n",
      "City not found. Skipping...\n",
      "Processing Record 50 of Set 23 | gorno-chuyskiy\n",
      "City not found. Skipping...\n",
      "Processing Record 1 of Set 24 | general pico\n",
      "Processing Record 2 of Set 24 | nago\n",
      "Processing Record 3 of Set 24 | kolvereid\n",
      "Processing Record 4 of Set 24 | zdvinsk\n",
      "Processing Record 5 of Set 24 | dankaur\n",
      "Processing Record 6 of Set 24 | yongan\n",
      "Processing Record 7 of Set 24 | shingu\n",
      "Processing Record 8 of Set 24 | otavi\n",
      "Processing Record 9 of Set 24 | zhicheng\n",
      "Processing Record 10 of Set 24 | karratha\n",
      "Processing Record 11 of Set 24 | obera\n",
      "Processing Record 12 of Set 24 | ngukurr\n"
     ]
    },
    {
     "name": "stdout",
     "output_type": "stream",
     "text": [
      "City not found. Skipping...\n",
      "Processing Record 13 of Set 24 | sernur\n",
      "Processing Record 14 of Set 24 | creel\n",
      "Processing Record 15 of Set 24 | safaga\n",
      "Processing Record 16 of Set 24 | inta\n",
      "Processing Record 17 of Set 24 | mayahi\n",
      "Processing Record 18 of Set 24 | cadereyta\n",
      "Processing Record 19 of Set 24 | ola\n",
      "Processing Record 20 of Set 24 | roberval\n",
      "Processing Record 21 of Set 24 | mitsamiouli\n",
      "Processing Record 22 of Set 24 | baruun-urt\n",
      "Processing Record 23 of Set 24 | dzhusaly\n",
      "City not found. Skipping...\n",
      "Processing Record 24 of Set 24 | floro\n",
      "Processing Record 25 of Set 24 | larap\n",
      "Processing Record 26 of Set 24 | muncar\n",
      "Processing Record 27 of Set 24 | cliza\n",
      "Processing Record 28 of Set 24 | kasongo-lunda\n",
      "Processing Record 29 of Set 24 | san miniato\n",
      "Processing Record 30 of Set 24 | muzhi\n",
      "Processing Record 31 of Set 24 | meiganga\n",
      "Processing Record 32 of Set 24 | karamea\n",
      "City not found. Skipping...\n",
      "Processing Record 33 of Set 24 | nurobod\n",
      "Processing Record 34 of Set 24 | kant\n",
      "Processing Record 35 of Set 24 | naryan-mar\n",
      "Processing Record 36 of Set 24 | christchurch\n",
      "Processing Record 37 of Set 24 | olafsvik\n",
      "Processing Record 38 of Set 24 | funchal\n",
      "Processing Record 39 of Set 24 | quatre cocos\n",
      "Processing Record 40 of Set 24 | dubbo\n",
      "Processing Record 41 of Set 24 | kalabo\n",
      "Processing Record 42 of Set 24 | tawkar\n",
      "City not found. Skipping...\n",
      "Processing Record 43 of Set 24 | pavlovka\n",
      "Processing Record 44 of Set 24 | vardo\n",
      "Processing Record 45 of Set 24 | narasannapeta\n",
      "Processing Record 46 of Set 24 | boqueirao\n",
      "Processing Record 47 of Set 24 | abha\n",
      "Processing Record 48 of Set 24 | arya\n",
      "Processing Record 49 of Set 24 | ocos\n",
      "Processing Record 50 of Set 24 | hoopstad\n",
      "Processing Record 1 of Set 25 | ugoofaaru\n",
      "Processing Record 2 of Set 25 | gao\n",
      "Processing Record 3 of Set 25 | ajdabiya\n",
      "Processing Record 4 of Set 25 | dehloran\n",
      "Processing Record 5 of Set 25 | juifang\n",
      "City not found. Skipping...\n",
      "Processing Record 6 of Set 25 | znamenskoye\n",
      "Processing Record 7 of Set 25 | sao joao dos patos\n",
      "Processing Record 8 of Set 25 | bolungarvik\n",
      "City not found. Skipping...\n",
      "Processing Record 9 of Set 25 | ratnagiri\n",
      "Processing Record 10 of Set 25 | chato\n",
      "-----------------------------\n",
      "Data Retrieval Complete      \n",
      "-----------------------------\n"
     ]
    }
   ],
   "source": [
    "# Loop through all the cities in the list.\n",
    "for i, city in enumerate(cities):\n",
    "\n",
    "    # Group cities in sets of 50 for logging purposes.\n",
    "    if (i % 50 == 0 and i >= 50):\n",
    "        set_count += 1\n",
    "        record_count = 1\n",
    "    # Create endpoint URL with each city.\n",
    "    city_url = url + \"&q=\" + city.replace(\" \",\"+\")\n",
    "\n",
    "    # Log the URL, record, and set numbers and the city.\n",
    "    print(f\"Processing Record {record_count} of Set {set_count} | {city}\")\n",
    "    # Add 1 to the record count.\n",
    "    record_count += 1\n",
    "    # Run an API request for each of the cities.\n",
    "    try:\n",
    "        # Parse the JSON and retrieve data.\n",
    "        city_weather = requests.get(city_url).json()\n",
    "        # Parse out the needed data.\n",
    "        city_lat = city_weather[\"coord\"][\"lat\"]\n",
    "        city_lng = city_weather[\"coord\"][\"lon\"]\n",
    "        city_max_temp = city_weather[\"main\"][\"temp_max\"]\n",
    "        city_humidity = city_weather[\"main\"][\"humidity\"]\n",
    "        city_clouds = city_weather[\"clouds\"][\"all\"]\n",
    "        city_wind = city_weather[\"wind\"][\"speed\"]\n",
    "        city_country = city_weather[\"sys\"][\"country\"]\n",
    "        try:\n",
    "            city_rain = city_weather['rain']['rain.1h']\n",
    "        except:\n",
    "            city_rain = 0\n",
    "        # Convert the date to ISO standard.\n",
    "        city_date = datetime.utcfromtimestamp(city_weather[\"dt\"]).strftime('%Y-%m-%d %H:%M:%S')\n",
    "        # Append the city information into city_data list.\n",
    "        city_data.append({\"City\": city.title(),\n",
    "                          \"Lat\": city_lat,\n",
    "                          \"Lng\": city_lng,\n",
    "                          \"Max Temp\": city_max_temp,\n",
    "                          \"Humidity\": city_humidity,\n",
    "                          \"Cloudiness\": city_clouds,\n",
    "                          \"Wind Speed\": city_wind,\n",
    "                          \"Country\": city_country,\n",
    "                          \"Date\": city_date,\n",
    "                        \"City Rain\": city_rain})\n",
    "\n",
    "# If an error is experienced, skip the city.\n",
    "    except:\n",
    "        print(\"City not found. Skipping...\")\n",
    "        pass\n",
    "    \n",
    "# Indicate that Data Loading is complete.\n",
    "print(\"-----------------------------\")\n",
    "print(\"Data Retrieval Complete      \")\n",
    "print(\"-----------------------------\")"
   ]
  },
  {
   "cell_type": "code",
   "execution_count": null,
   "metadata": {},
   "outputs": [],
   "source": [
    "len(city_data)"
   ]
  },
  {
   "cell_type": "code",
   "execution_count": null,
   "metadata": {},
   "outputs": [],
   "source": [
    "# Convert the array of dictionaries to a Pandas DataFrame.\n",
    "city_data_df = pd.DataFrame(city_data)\n",
    "city_data_df.head(50)"
   ]
  },
  {
   "cell_type": "code",
   "execution_count": null,
   "metadata": {},
   "outputs": [],
   "source": [
    "new_columns = [\"City\", \"Country\", \"Date\", \"Lat\", \"Lng\", \"Max Temp\", \"Humidity\", \"Cloudiness\", \"Wind Speed\"]\n",
    "new_columns"
   ]
  },
  {
   "cell_type": "code",
   "execution_count": null,
   "metadata": {},
   "outputs": [],
   "source": [
    "city_data_df = city_data_df[new_columns]"
   ]
  },
  {
   "cell_type": "code",
   "execution_count": null,
   "metadata": {},
   "outputs": [],
   "source": [
    "city_data_df"
   ]
  },
  {
   "cell_type": "markdown",
   "metadata": {},
   "source": [
    "# Stem Exercise\n"
   ]
  },
  {
   "cell_type": "code",
   "execution_count": null,
   "metadata": {},
   "outputs": [],
   "source": [
    "# Create the output file (CSV).\n",
    "output_data_file = \"weather_data/cities.csv\"\n",
    "# Export the City_Data into a CSV.\n",
    "city_data_df.to_csv(output_data_file, index_label=\"City_ID\")"
   ]
  },
  {
   "cell_type": "code",
   "execution_count": null,
   "metadata": {},
   "outputs": [],
   "source": [
    "# Extract relevant fields from the DataFrame for plotting.\n",
    "lats = city_data_df[\"Lat\"]\n",
    "max_temps = city_data_df[\"Max Temp\"]\n",
    "humidity = city_data_df[\"Humidity\"]\n",
    "cloudiness = city_data_df[\"Cloudiness\"]\n",
    "wind_speed = city_data_df[\"Wind Speed\"]"
   ]
  },
  {
   "cell_type": "code",
   "execution_count": null,
   "metadata": {},
   "outputs": [],
   "source": [
    "# Import the time module.\n",
    "import time\n",
    "# Get today's date in seconds.\n",
    "today = time.strftime(\"%x\")\n",
    "today\n"
   ]
  },
  {
   "cell_type": "code",
   "execution_count": null,
   "metadata": {},
   "outputs": [],
   "source": [
    "# Build the scatter plot for latitude vs. max temperature.\n",
    "plt.scatter(lats,\n",
    "            max_temps,\n",
    "            edgecolor=\"black\", linewidths=1, marker=\"o\",\n",
    "            alpha=0.8, label=\"Cities\")\n",
    "\n",
    "# Incorporate the other graph properties.\n",
    "plt.title(f\"City Latitude vs. Max Temperature \"+ time.strftime(\"%x\"))\n",
    "plt.ylabel(\"Max Temperature (F)\")\n",
    "plt.xlabel(\"Latitude\")\n",
    "plt.grid(True)\n",
    "\n",
    "# Save the figure.\n",
    "plt.savefig(\"weather_data/Fig1.png\")\n",
    "\n",
    "# Show plot.\n",
    "plt.show()"
   ]
  },
  {
   "cell_type": "code",
   "execution_count": null,
   "metadata": {},
   "outputs": [],
   "source": [
    "# Build the scatter plots for latitude vs. humidity.\n",
    "plt.scatter(lats,\n",
    "            humidity,\n",
    "            edgecolor=\"black\", linewidths=1, marker=\"o\",\n",
    "            alpha=0.8, label=\"Cities\")\n",
    "\n",
    "# Incorporate the other graph properties.\n",
    "plt.title(f\"City Latitude vs. Humidity \"+ time.strftime(\"%x\"))\n",
    "plt.ylabel(\"Humidity (%)\")\n",
    "plt.xlabel(\"Latitude\")\n",
    "plt.grid(True)\n",
    "# Save the figure.\n",
    "plt.savefig(\"weather_data/Fig2.png\")\n",
    "# Show plot.\n",
    "plt.show()"
   ]
  },
  {
   "cell_type": "code",
   "execution_count": null,
   "metadata": {},
   "outputs": [],
   "source": [
    "# Build the scatter plots for latitude vs. cloudiness.\n",
    "plt.scatter(lats,\n",
    "            cloudiness,\n",
    "            edgecolor=\"black\", linewidths=1, marker=\"o\",\n",
    "            alpha=0.8, label=\"Cities\")\n",
    "\n",
    "# Incorporate the other graph properties.\n",
    "plt.title(f\"City Latitude vs. Cloudiness (%) \"+ time.strftime(\"%x\"))\n",
    "plt.ylabel(\"Cloudiness (%)\")\n",
    "plt.xlabel(\"Latitude\")\n",
    "plt.grid(True)\n",
    "# Save the figure.\n",
    "plt.savefig(\"weather_data/Fig3.png\")\n",
    "# Show plot.\n",
    "plt.show()"
   ]
  },
  {
   "cell_type": "code",
   "execution_count": null,
   "metadata": {},
   "outputs": [],
   "source": [
    "# Build the scatter plots for latitude vs. wind speed.\n",
    "plt.scatter(lats,\n",
    "            wind_speed,\n",
    "            edgecolor=\"black\", linewidths=1, marker=\"o\",\n",
    "            alpha=0.8, label=\"Cities\")\n",
    "\n",
    "# Incorporate the other graph properties.\n",
    "plt.title(f\"City Latitude vs. Wind Speed \"+ time.strftime(\"%x\"))\n",
    "plt.ylabel(\"Wind Speed (mph)\")\n",
    "plt.xlabel(\"Latitude\")\n",
    "plt.grid(True)\n",
    "# Save the figure.\n",
    "plt.savefig(\"weather_data/Fig4.png\")\n",
    "# Show plot.\n",
    "plt.show()"
   ]
  },
  {
   "cell_type": "markdown",
   "metadata": {},
   "source": [
    "# linear rigression"
   ]
  },
  {
   "cell_type": "code",
   "execution_count": null,
   "metadata": {},
   "outputs": [],
   "source": [
    "# Import linear regression from the SciPy stats module.\n",
    "from scipy.stats import linregress\n"
   ]
  },
  {
   "cell_type": "code",
   "execution_count": null,
   "metadata": {},
   "outputs": [],
   "source": [
    "# Create an equal number of latitudes and temperatures.\n",
    "lats = [42.5, 43.9, 8.1, 36.8, 79.9, 69.1, 25.7, 15.3, 12.7, 64.5]\n",
    "temps = [80.5, 75.3, 90.9, 90.0, 40.4, 62.3, 85.4, 79.6, 72.5, 72.0]"
   ]
  },
  {
   "cell_type": "code",
   "execution_count": null,
   "metadata": {},
   "outputs": [],
   "source": [
    "# Perform linear regression.\n",
    "(slope, intercept, r_value, p_value, std_err) = linregress(lats, temps)\n",
    "# Get the equation of the line.\n",
    "line_eq = \"y = \" + str(round(slope,2)) + \"x + \" + str(round(intercept,2))\n",
    "print(line_eq)\n",
    "print(f\"The p-value is: {p_value:.3f}\")"
   ]
  },
  {
   "cell_type": "code",
   "execution_count": null,
   "metadata": {},
   "outputs": [],
   "source": [
    "# Calculate the regression line \"y values\" from the slope and intercept.\n",
    "regress_values = [(lat * slope + intercept) for lat in lats]"
   ]
  },
  {
   "cell_type": "code",
   "execution_count": null,
   "metadata": {},
   "outputs": [],
   "source": [
    "# Import Matplotlib.\n",
    "import matplotlib.pyplot as plt\n",
    "# Create a scatter plot of the x and y values.\n",
    "plt.scatter(lats,temps)\n",
    "# Plot the regression line with the x-values and the y coordinates based on the intercept and slope.\n",
    "plt.plot(lats,regress_values,\"r\")\n",
    "# Annotate the text for the line equation and add its coordinates.\n",
    "plt.annotate(line_eq, (10,40), fontsize=15, color=\"red\")\n",
    "plt.xlabel('Latitude')\n",
    "plt.ylabel('Temp')\n",
    "plt.show()"
   ]
  },
  {
   "cell_type": "markdown",
   "metadata": {},
   "source": [
    "# linear regresion over"
   ]
  },
  {
   "cell_type": "code",
   "execution_count": null,
   "metadata": {},
   "outputs": [],
   "source": [
    "# Create a function to create perform linear regression on the weather data\n",
    "# and plot a regression line and the equation with the data.  \n",
    "def plot_linear_regression(x_values, y_values, title, y_label, text_coordinates):\n",
    "    \n",
    "    # Run regression on hemisphere weather data.\n",
    "    (slope, intercept, r_value, p_value, std_err) = linregress(x_values, y_values)\n",
    "    \n",
    "    # Calculate the regression line \"y values\" from the slope and intercept.\n",
    "    regress_values = x_values * slope + intercept\n",
    "    # Get the equation of the line.\n",
    "    line_eq = \"y = \" + str(round(slope,2)) + \"x + \" + str(round(intercept,2))\n",
    "    # Create a scatter plot and plot the regression line.\n",
    "    plt.scatter(x_values,y_values)\n",
    "    plt.plot(x_values,regress_values,\"r\")\n",
    "    # Annotate the text for the line equation.\n",
    "    plt.annotate(line_eq, text_coordinates, fontsize=8, color=\"red\")\n",
    "    plt.xlabel('Latitude')\n",
    "    plt.ylabel(y_label)\n",
    "    plt.show()\n"
   ]
  },
  {
   "cell_type": "code",
   "execution_count": null,
   "metadata": {},
   "outputs": [],
   "source": [
    "index13 = city_data_df.loc[13]"
   ]
  },
  {
   "cell_type": "code",
   "execution_count": null,
   "metadata": {},
   "outputs": [],
   "source": [
    "index13"
   ]
  },
  {
   "cell_type": "code",
   "execution_count": null,
   "metadata": {},
   "outputs": [],
   "source": [
    "city_data_df[\"Lat\"] >= 0"
   ]
  },
  {
   "cell_type": "code",
   "execution_count": null,
   "metadata": {},
   "outputs": [],
   "source": [
    "city_data_df.loc[(city_data_df[\"Lat\"] >= 0)]"
   ]
  },
  {
   "cell_type": "code",
   "execution_count": null,
   "metadata": {},
   "outputs": [],
   "source": [
    "len(city_data_df.loc[(city_data_df[\"Lat\"] >= 0)])"
   ]
  },
  {
   "cell_type": "code",
   "execution_count": null,
   "metadata": {},
   "outputs": [],
   "source": [
    "# Create Northern and Southern Hemisphere DataFrames.\n",
    "northern_hemi_df = city_data_df.loc[(city_data_df[\"Lat\"] >= 0)]\n",
    "southern_hemi_df = city_data_df.loc[(city_data_df[\"Lat\"] < 0)]"
   ]
  },
  {
   "cell_type": "code",
   "execution_count": null,
   "metadata": {},
   "outputs": [],
   "source": [
    "# Linear regression on the Northern Hemisphere\n",
    "x_values = northern_hemi_df[\"Lat\"]\n",
    "y_values = northern_hemi_df[\"Max Temp\"]\n",
    "# Call the function.\n",
    "plot_linear_regression(x_values, y_values, 'Linear Regression on the Northern Hemisphere \\n for Maximum Temperature', 'Max Temp',(10,40))"
   ]
  },
  {
   "cell_type": "code",
   "execution_count": null,
   "metadata": {},
   "outputs": [],
   "source": [
    "# Linear regression on the Northern Hemisphere\n",
    "x_values = southern_hemi_df[\"Lat\"]\n",
    "y_values = southern_hemi_df[\"Max Temp\"]\n",
    "# Call the function.\n",
    "plot_linear_regression(x_values, y_values, 'Linear Regression on the Southern Hemisphere \\n for Maximum Temperature', 'Max Temp',(10,40))"
   ]
  },
  {
   "cell_type": "code",
   "execution_count": null,
   "metadata": {},
   "outputs": [],
   "source": [
    "# Linear regression on the Northern Hemisphere\n",
    "x_values = northern_hemi_df[\"Lat\"]\n",
    "y_values = northern_hemi_df[\"Humidity\"]\n",
    "# Call the function.\n",
    "plot_linear_regression(x_values, y_values,'Linear Regression on the Northern Hemisphere \\n for % Humidity', '% Humidity',(40,10))"
   ]
  },
  {
   "cell_type": "code",
   "execution_count": null,
   "metadata": {},
   "outputs": [],
   "source": [
    "# Linear regression on the Southern Hemisphere\n",
    "x_values = southern_hemi_df[\"Lat\"]\n",
    "y_values = southern_hemi_df[\"Humidity\"]\n",
    "# Call the function.\n",
    "plot_linear_regression(x_values, y_values, 'Linear Regression on the Southern Hemisphere \\n for % Humidity', '% Humidity',(-50,15))"
   ]
  },
  {
   "cell_type": "code",
   "execution_count": null,
   "metadata": {},
   "outputs": [],
   "source": [
    "# Linear regression on the Northern Hemisphere\n",
    "x_values = northern_hemi_df[\"Lat\"]\n",
    "y_values = northern_hemi_df[\"Cloudiness\"]\n",
    "# Call the function.\n",
    "plot_linear_regression(x_values, y_values,'Linear Regression on the Northern Hemisphere \\n for % Humidity', 'Cloudiness',(-50,60))"
   ]
  },
  {
   "cell_type": "code",
   "execution_count": null,
   "metadata": {},
   "outputs": [],
   "source": [
    "# Linear regression on the Northern Hemisphere\n",
    "x_values = southern_hemi_df[\"Lat\"]\n",
    "y_values = southern_hemi_df[\"Cloudiness\"]\n",
    "# Call the function.\n",
    "plot_linear_regression(x_values, y_values,'Linear Regression on the Southern Hemisphere \\n for % Humidity', 'Cloudiness',(-50,60))"
   ]
  },
  {
   "cell_type": "code",
   "execution_count": null,
   "metadata": {},
   "outputs": [],
   "source": [
    "# Linear regression on the Northern Hemisphere\n",
    "x_values = northern_hemi_df[\"Lat\"]\n",
    "y_values = northern_hemi_df[\"Wind Speed\"]\n",
    "# Call the function.\n",
    "plot_linear_regression(x_values, y_values, 'Linear Regression on the Northern Hemisphere \\n for Wind Speed', 'Wind Speed',(40,35))"
   ]
  },
  {
   "cell_type": "code",
   "execution_count": null,
   "metadata": {},
   "outputs": [],
   "source": [
    "# Linear regression on the Southern Hemisphere\n",
    "x_values = southern_hemi_df[\"Lat\"]\n",
    "y_values = southern_hemi_df[\"Wind Speed\"]\n",
    "# Call the function.\n",
    "plot_linear_regression(x_values, y_values, 'Linear Regression on the Southern Hemisphere \\n for Wind Speed', 'Wind Speed',(-50,35))"
   ]
  },
  {
   "cell_type": "markdown",
   "metadata": {},
   "source": [
    "# gmaps\n",
    "\n"
   ]
  },
  {
   "cell_type": "code",
   "execution_count": null,
   "metadata": {},
   "outputs": [],
   "source": []
  }
 ],
 "metadata": {
  "kernelspec": {
   "display_name": "PythonData",
   "language": "python",
   "name": "pythondata"
  },
  "language_info": {
   "codemirror_mode": {
    "name": "ipython",
    "version": 3
   },
   "file_extension": ".py",
   "mimetype": "text/x-python",
   "name": "python",
   "nbconvert_exporter": "python",
   "pygments_lexer": "ipython3",
   "version": "3.7.6"
  }
 },
 "nbformat": 4,
 "nbformat_minor": 4
}
