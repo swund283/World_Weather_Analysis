{
 "cells": [
  {
   "cell_type": "code",
   "execution_count": 1,
   "metadata": {},
   "outputs": [],
   "source": [
    "# Import the dependencies.\n",
    "import pandas as pd\n",
    "import matplotlib.pyplot as plt\n",
    "import numpy as np"
   ]
  },
  {
   "cell_type": "code",
   "execution_count": 2,
   "metadata": {},
   "outputs": [
    {
     "data": {
      "text/plain": [
       "<zip at 0x7ff4c37f03c0>"
      ]
     },
     "execution_count": 2,
     "metadata": {},
     "output_type": "execute_result"
    }
   ],
   "source": [
    "# Create a set of random latitude and longitude combinations.\n",
    "lats = np.random.uniform(low=-90.000, high=90.000, size=1500)\n",
    "lngs = np.random.uniform(low=-180.000, high=180.000, size=1500)\n",
    "lat_lngs = zip(lats, lngs)\n",
    "lat_lngs "
   ]
  },
  {
   "cell_type": "code",
   "execution_count": 3,
   "metadata": {},
   "outputs": [],
   "source": [
    "# Add the latitudes and longitudes to a list.\n",
    "coordinates = list(lat_lngs)"
   ]
  },
  {
   "cell_type": "code",
   "execution_count": 4,
   "metadata": {},
   "outputs": [],
   "source": [
    "# Use the citipy module to determine city based on latitude and longitude.\n",
    "from citipy import citipy"
   ]
  },
  {
   "cell_type": "code",
   "execution_count": 5,
   "metadata": {},
   "outputs": [
    {
     "data": {
      "text/plain": [
       "623"
      ]
     },
     "execution_count": 5,
     "metadata": {},
     "output_type": "execute_result"
    }
   ],
   "source": [
    "# Create a list for holding the cities.\n",
    "cities = []\n",
    "# Identify the nearest city for each latitude and longitude combination.\n",
    "for coordinate in coordinates:\n",
    "    city = citipy.nearest_city(coordinate[0], coordinate[1]).city_name\n",
    "    \n",
    "    # If the city is unique, then we will add it to the cities list.\n",
    "    if city not in cities:\n",
    "        cities.append(city)\n",
    "# Print the city count to confirm sufficient count.\n",
    "len(cities)"
   ]
  },
  {
   "cell_type": "code",
   "execution_count": 6,
   "metadata": {},
   "outputs": [
    {
     "data": {
      "text/plain": [
       "'2.22.0'"
      ]
     },
     "execution_count": 6,
     "metadata": {},
     "output_type": "execute_result"
    }
   ],
   "source": [
    "import requests\n",
    "requests.__version__"
   ]
  },
  {
   "cell_type": "code",
   "execution_count": 7,
   "metadata": {},
   "outputs": [],
   "source": [
    "# Import the requests library.\n",
    "import requests\n",
    "# Import the datetime module from the datetime library.\n",
    "from datetime import datetime\n",
    "\n",
    "# Import the API key.\n",
    "from config import weather_api_key"
   ]
  },
  {
   "cell_type": "code",
   "execution_count": 8,
   "metadata": {},
   "outputs": [
    {
     "name": "stdout",
     "output_type": "stream",
     "text": [
      "http://api.openweathermap.org/data/2.5/weather?units=Imperial&APPID=11def79fe227e1ddceb0f892565d0af1\n"
     ]
    }
   ],
   "source": [
    "# Starting URL for Weather Map API Call.\n",
    "url = \"http://api.openweathermap.org/data/2.5/weather?units=Imperial&APPID=\" + weather_api_key\n",
    "print(url)\n"
   ]
  },
  {
   "cell_type": "code",
   "execution_count": 9,
   "metadata": {},
   "outputs": [
    {
     "name": "stdout",
     "output_type": "stream",
     "text": [
      "http://api.openweathermap.org/data/2.5/weather?units=Imperial&APPID=11def79fe227e1ddceb0f892565d0af1&q=boston\n"
     ]
    }
   ],
   "source": [
    "# Create an endpoint URL for a city.\n",
    "city_url = url + \"&q=\" + \"boston\"\n",
    "print(city_url)"
   ]
  },
  {
   "cell_type": "code",
   "execution_count": 10,
   "metadata": {},
   "outputs": [
    {
     "data": {
      "text/plain": [
       "<Response [200]>"
      ]
     },
     "execution_count": 10,
     "metadata": {},
     "output_type": "execute_result"
    }
   ],
   "source": [
    "# Make a 'Get' request for the city weather.\n",
    "city_weather = requests.get(city_url)\n",
    "city_weather"
   ]
  },
  {
   "cell_type": "code",
   "execution_count": 11,
   "metadata": {},
   "outputs": [
    {
     "data": {
      "text/plain": [
       "'{\"coord\":{\"lon\":-71.06,\"lat\":42.36},\"weather\":[{\"id\":801,\"main\":\"Clouds\",\"description\":\"few clouds\",\"icon\":\"02n\"}],\"base\":\"stations\",\"main\":{\"temp\":72.88,\"feels_like\":72.82,\"temp_min\":69.8,\"temp_max\":75.99,\"pressure\":1007,\"humidity\":83},\"visibility\":16093,\"wind\":{\"speed\":11.41,\"deg\":180},\"clouds\":{\"all\":20},\"dt\":1592966044,\"sys\":{\"type\":1,\"id\":3486,\"country\":\"US\",\"sunrise\":1592903286,\"sunset\":1592958295},\"timezone\":-14400,\"id\":4930956,\"name\":\"Boston\",\"cod\":200}'"
      ]
     },
     "execution_count": 11,
     "metadata": {},
     "output_type": "execute_result"
    }
   ],
   "source": [
    "# Get the text of the 'Get' request.\n",
    "city_weather.text"
   ]
  },
  {
   "cell_type": "code",
   "execution_count": 12,
   "metadata": {},
   "outputs": [
    {
     "data": {
      "text/plain": [
       "{'coord': {'lon': -71.06, 'lat': 42.36},\n",
       " 'weather': [{'id': 801,\n",
       "   'main': 'Clouds',\n",
       "   'description': 'few clouds',\n",
       "   'icon': '02n'}],\n",
       " 'base': 'stations',\n",
       " 'main': {'temp': 72.88,\n",
       "  'feels_like': 72.82,\n",
       "  'temp_min': 69.8,\n",
       "  'temp_max': 75.99,\n",
       "  'pressure': 1007,\n",
       "  'humidity': 83},\n",
       " 'visibility': 16093,\n",
       " 'wind': {'speed': 11.41, 'deg': 180},\n",
       " 'clouds': {'all': 20},\n",
       " 'dt': 1592966044,\n",
       " 'sys': {'type': 1,\n",
       "  'id': 3486,\n",
       "  'country': 'US',\n",
       "  'sunrise': 1592903286,\n",
       "  'sunset': 1592958295},\n",
       " 'timezone': -14400,\n",
       " 'id': 4930956,\n",
       " 'name': 'Boston',\n",
       " 'cod': 200}"
      ]
     },
     "execution_count": 12,
     "metadata": {},
     "output_type": "execute_result"
    }
   ],
   "source": [
    "# Get the JSON text of the 'Get' request.\n",
    "city_weather.json()\n"
   ]
  },
  {
   "cell_type": "code",
   "execution_count": 13,
   "metadata": {},
   "outputs": [
    {
     "name": "stdout",
     "output_type": "stream",
     "text": [
      "City Weather found.\n"
     ]
    }
   ],
   "source": [
    "# Create an endpoint URL for a city.\n",
    "city_url = url + \"&q=\" + \"Boston\"\n",
    "city_weather = requests.get(city_url)\n",
    "if city_weather.status_code == 200:\n",
    "    print(f\"City Weather found.\")\n",
    "else:\n",
    "    print(f\"City weather not found.\")"
   ]
  },
  {
   "cell_type": "code",
   "execution_count": 14,
   "metadata": {},
   "outputs": [
    {
     "data": {
      "text/plain": [
       "{'coord': {'lon': -71.06, 'lat': 42.36},\n",
       " 'weather': [{'id': 801,\n",
       "   'main': 'Clouds',\n",
       "   'description': 'few clouds',\n",
       "   'icon': '02n'}],\n",
       " 'base': 'stations',\n",
       " 'main': {'temp': 72.88,\n",
       "  'feels_like': 72.82,\n",
       "  'temp_min': 69.8,\n",
       "  'temp_max': 75.99,\n",
       "  'pressure': 1007,\n",
       "  'humidity': 83},\n",
       " 'visibility': 16093,\n",
       " 'wind': {'speed': 11.41, 'deg': 180},\n",
       " 'clouds': {'all': 20},\n",
       " 'dt': 1592966044,\n",
       " 'sys': {'type': 1,\n",
       "  'id': 3486,\n",
       "  'country': 'US',\n",
       "  'sunrise': 1592903286,\n",
       "  'sunset': 1592958295},\n",
       " 'timezone': -14400,\n",
       " 'id': 4930956,\n",
       " 'name': 'Boston',\n",
       " 'cod': 200}"
      ]
     },
     "execution_count": 14,
     "metadata": {},
     "output_type": "execute_result"
    }
   ],
   "source": [
    "# Create an endpoint URL for a city.\n",
    "city_url = url + \"&q=\" + \"Boston\"\n",
    "city_weather = requests.get(city_url)\n",
    "city_weather.json()"
   ]
  },
  {
   "cell_type": "code",
   "execution_count": 15,
   "metadata": {},
   "outputs": [],
   "source": [
    "# Get the JSON data.\n",
    "boston_data = city_weather.json()"
   ]
  },
  {
   "cell_type": "code",
   "execution_count": 16,
   "metadata": {},
   "outputs": [
    {
     "data": {
      "text/plain": [
       "{'type': 1,\n",
       " 'id': 3486,\n",
       " 'country': 'US',\n",
       " 'sunrise': 1592903286,\n",
       " 'sunset': 1592958295}"
      ]
     },
     "execution_count": 16,
     "metadata": {},
     "output_type": "execute_result"
    }
   ],
   "source": [
    "boston_data['sys']"
   ]
  },
  {
   "cell_type": "code",
   "execution_count": 17,
   "metadata": {},
   "outputs": [
    {
     "data": {
      "text/plain": [
       "'US'"
      ]
     },
     "execution_count": 17,
     "metadata": {},
     "output_type": "execute_result"
    }
   ],
   "source": [
    "boston_data['sys']['country']"
   ]
  },
  {
   "cell_type": "code",
   "execution_count": 18,
   "metadata": {},
   "outputs": [
    {
     "name": "stdout",
     "output_type": "stream",
     "text": [
      "42.36 -71.06 75.99 83 20 11.41\n"
     ]
    }
   ],
   "source": [
    "lat = boston_data[\"coord\"][\"lat\"]\n",
    "lng = boston_data[\"coord\"][\"lon\"]\n",
    "max_temp = boston_data[\"main\"][\"temp_max\"]\n",
    "humidity = boston_data[\"main\"][\"humidity\"]\n",
    "clouds = boston_data[\"clouds\"][\"all\"]\n",
    "wind = boston_data[\"wind\"][\"speed\"]\n",
    "print(lat, lng, max_temp, humidity, clouds, wind)"
   ]
  },
  {
   "cell_type": "code",
   "execution_count": 19,
   "metadata": {},
   "outputs": [
    {
     "data": {
      "text/plain": [
       "'2020-06-24 02:34:04'"
      ]
     },
     "execution_count": 19,
     "metadata": {},
     "output_type": "execute_result"
    }
   ],
   "source": [
    "# Import the datetime module from the datetime library.\n",
    "from datetime import datetime\n",
    "# Get the date from the JSON file.\n",
    "date = boston_data[\"dt\"]\n",
    "# Convert the UTC date to a date format with year, month, day, hours, minutes, and seconds.\n",
    "datetime.utcfromtimestamp(date).strftime('%Y-%m-%d %H:%M:%S')\n"
   ]
  },
  {
   "cell_type": "code",
   "execution_count": 20,
   "metadata": {},
   "outputs": [
    {
     "name": "stdout",
     "output_type": "stream",
     "text": [
      "Beginning Data Retrieval     \n",
      "-----------------------------\n"
     ]
    }
   ],
   "source": [
    "# Create an empty list to hold the weather data.\n",
    "city_data = []\n",
    "# Print the beginning of the logging.\n",
    "print(\"Beginning Data Retrieval     \")\n",
    "print(\"-----------------------------\")\n",
    "\n",
    "# Create counters.\n",
    "record_count = 1\n",
    "set_count = 1\n"
   ]
  },
  {
   "cell_type": "code",
   "execution_count": 21,
   "metadata": {},
   "outputs": [],
   "source": [
    "# Loop through all the cities in our list.\n",
    "for i in range(len(cities)):\n",
    "\n",
    "    # Group cities in sets of 50 for logging purposes.\n",
    "    if (i % 50 == 0 and i >= 50):\n",
    "        set_count += 1\n",
    "        record_count = 1\n",
    "    # Create endpoint URL with each city.\n",
    "    city_url = url + \"&q=\" + \"i\"\n"
   ]
  },
  {
   "cell_type": "code",
   "execution_count": 22,
   "metadata": {},
   "outputs": [
    {
     "name": "stdout",
     "output_type": "stream",
     "text": [
      "Processing Record 1 of Set 13 | tasiilaq\n",
      "Processing Record 2 of Set 13 | ushuaia\n",
      "Processing Record 3 of Set 13 | chokurdakh\n",
      "Processing Record 4 of Set 13 | rikitea\n",
      "Processing Record 5 of Set 13 | bluff\n",
      "Processing Record 6 of Set 13 | talnakh\n",
      "Processing Record 7 of Set 13 | dahanu\n",
      "Processing Record 8 of Set 13 | san quintin\n",
      "Processing Record 9 of Set 13 | henties bay\n",
      "Processing Record 10 of Set 13 | cape town\n",
      "Processing Record 11 of Set 13 | coquimbo\n",
      "Processing Record 12 of Set 13 | punta arenas\n",
      "Processing Record 13 of Set 13 | barbar\n",
      "City not found. Skipping...\n",
      "Processing Record 14 of Set 13 | bredasdorp\n",
      "Processing Record 15 of Set 13 | busselton\n",
      "Processing Record 16 of Set 13 | bukoba\n",
      "Processing Record 17 of Set 13 | itirucu\n",
      "Processing Record 18 of Set 13 | sitka\n",
      "Processing Record 19 of Set 13 | upernavik\n",
      "Processing Record 20 of Set 13 | kuche\n",
      "City not found. Skipping...\n",
      "Processing Record 21 of Set 13 | evensk\n",
      "Processing Record 22 of Set 13 | albany\n",
      "Processing Record 23 of Set 13 | new norfolk\n",
      "Processing Record 24 of Set 13 | broome\n",
      "Processing Record 25 of Set 13 | mareeba\n",
      "Processing Record 26 of Set 13 | quelimane\n",
      "Processing Record 27 of Set 13 | kapaa\n",
      "Processing Record 28 of Set 13 | hithadhoo\n",
      "Processing Record 29 of Set 13 | athabasca\n",
      "Processing Record 30 of Set 13 | gori\n",
      "Processing Record 31 of Set 13 | samusu\n",
      "City not found. Skipping...\n",
      "Processing Record 32 of Set 13 | avarua\n",
      "Processing Record 33 of Set 13 | mnogovershinnyy\n",
      "Processing Record 34 of Set 13 | vaini\n",
      "Processing Record 35 of Set 13 | chicama\n",
      "Processing Record 36 of Set 13 | hilo\n",
      "Processing Record 37 of Set 13 | belle glade\n",
      "Processing Record 38 of Set 13 | grand river south east\n",
      "City not found. Skipping...\n",
      "Processing Record 39 of Set 13 | khatanga\n",
      "Processing Record 40 of Set 13 | namibe\n",
      "Processing Record 41 of Set 13 | arraial do cabo\n",
      "Processing Record 42 of Set 13 | ilulissat\n",
      "Processing Record 43 of Set 13 | lorengau\n",
      "Processing Record 44 of Set 13 | mataura\n",
      "Processing Record 45 of Set 13 | palabuhanratu\n",
      "City not found. Skipping...\n",
      "Processing Record 46 of Set 13 | taolanaro\n",
      "City not found. Skipping...\n",
      "Processing Record 47 of Set 13 | sentyabrskiy\n",
      "City not found. Skipping...\n",
      "Processing Record 48 of Set 13 | saskylakh\n",
      "Processing Record 49 of Set 13 | gusinoye ozero\n",
      "Processing Record 50 of Set 13 | bengkulu\n",
      "Processing Record 1 of Set 14 | carnarvon\n",
      "Processing Record 2 of Set 14 | huarmey\n",
      "Processing Record 3 of Set 14 | barentsburg\n",
      "City not found. Skipping...\n",
      "Processing Record 4 of Set 14 | ugoofaaru\n",
      "Processing Record 5 of Set 14 | ponta do sol\n",
      "Processing Record 6 of Set 14 | korla\n",
      "Processing Record 7 of Set 14 | rovaniemi\n",
      "Processing Record 8 of Set 14 | skalistyy\n",
      "City not found. Skipping...\n",
      "Processing Record 9 of Set 14 | opuwo\n",
      "Processing Record 10 of Set 14 | hovd\n",
      "Processing Record 11 of Set 14 | tamalameque\n",
      "Processing Record 12 of Set 14 | torbay\n",
      "Processing Record 13 of Set 14 | port hardy\n",
      "Processing Record 14 of Set 14 | yellowknife\n",
      "Processing Record 15 of Set 14 | atuona\n",
      "Processing Record 16 of Set 14 | chuy\n",
      "Processing Record 17 of Set 14 | ituverava\n",
      "Processing Record 18 of Set 14 | carutapera\n",
      "Processing Record 19 of Set 14 | mahebourg\n",
      "Processing Record 20 of Set 14 | airai\n",
      "Processing Record 21 of Set 14 | severo-kurilsk\n",
      "Processing Record 22 of Set 14 | caravelas\n",
      "Processing Record 23 of Set 14 | cherskiy\n",
      "Processing Record 24 of Set 14 | saint anthony\n",
      "Processing Record 25 of Set 14 | lebu\n",
      "Processing Record 26 of Set 14 | maarianhamina\n",
      "Processing Record 27 of Set 14 | meulaboh\n",
      "Processing Record 28 of Set 14 | noyabrsk\n",
      "Processing Record 29 of Set 14 | mar del plata\n",
      "Processing Record 30 of Set 14 | barrow\n",
      "Processing Record 31 of Set 14 | beidao\n",
      "Processing Record 32 of Set 14 | mackay\n",
      "Processing Record 33 of Set 14 | hobart\n",
      "Processing Record 34 of Set 14 | isangel\n",
      "Processing Record 35 of Set 14 | baykit\n",
      "Processing Record 36 of Set 14 | liberty\n",
      "Processing Record 37 of Set 14 | puerto ayora\n",
      "Processing Record 38 of Set 14 | tazovskiy\n",
      "Processing Record 39 of Set 14 | sioux lookout\n",
      "Processing Record 40 of Set 14 | achisay\n",
      "City not found. Skipping...\n",
      "Processing Record 41 of Set 14 | lompoc\n",
      "Processing Record 42 of Set 14 | dikson\n",
      "Processing Record 43 of Set 14 | nishihara\n",
      "Processing Record 44 of Set 14 | vogar\n",
      "Processing Record 45 of Set 14 | constitucion\n",
      "Processing Record 46 of Set 14 | ambilobe\n",
      "Processing Record 47 of Set 14 | jamestown\n",
      "Processing Record 48 of Set 14 | bose\n",
      "Processing Record 49 of Set 14 | kudat\n",
      "Processing Record 50 of Set 14 | thompson\n",
      "Processing Record 1 of Set 15 | garden city\n",
      "Processing Record 2 of Set 15 | shimoda\n",
      "Processing Record 3 of Set 15 | broken hill\n",
      "Processing Record 4 of Set 15 | aflu\n",
      "City not found. Skipping...\n",
      "Processing Record 5 of Set 15 | hambantota\n",
      "Processing Record 6 of Set 15 | harper\n",
      "Processing Record 7 of Set 15 | santa maria\n",
      "Processing Record 8 of Set 15 | tefe\n",
      "Processing Record 9 of Set 15 | los teques\n",
      "Processing Record 10 of Set 15 | ribeira brava\n",
      "Processing Record 11 of Set 15 | port blair\n",
      "Processing Record 12 of Set 15 | sao filipe\n",
      "Processing Record 13 of Set 15 | kailua\n",
      "Processing Record 14 of Set 15 | praya\n",
      "Processing Record 15 of Set 15 | sao joao da barra\n",
      "Processing Record 16 of Set 15 | port alfred\n",
      "Processing Record 17 of Set 15 | calama\n",
      "Processing Record 18 of Set 15 | chiang klang\n",
      "Processing Record 19 of Set 15 | tondano\n",
      "Processing Record 20 of Set 15 | trincomalee\n",
      "Processing Record 21 of Set 15 | aksu\n",
      "Processing Record 22 of Set 15 | padang\n",
      "Processing Record 23 of Set 15 | toyooka\n",
      "Processing Record 24 of Set 15 | tiksi\n",
      "Processing Record 25 of Set 15 | kaitangata\n",
      "Processing Record 26 of Set 15 | gannan\n",
      "Processing Record 27 of Set 15 | caceres\n",
      "Processing Record 28 of Set 15 | muros\n",
      "Processing Record 29 of Set 15 | vrangel\n",
      "Processing Record 30 of Set 15 | mount gambier\n",
      "Processing Record 31 of Set 15 | ampanihy\n",
      "Processing Record 32 of Set 15 | general roca\n",
      "Processing Record 33 of Set 15 | manakara\n",
      "Processing Record 34 of Set 15 | dunedin\n",
      "Processing Record 35 of Set 15 | hermanus\n",
      "Processing Record 36 of Set 15 | pevek\n",
      "Processing Record 37 of Set 15 | marakkanam\n",
      "Processing Record 38 of Set 15 | inta\n",
      "Processing Record 39 of Set 15 | kununurra\n",
      "Processing Record 40 of Set 15 | port macquarie\n",
      "Processing Record 41 of Set 15 | guerrero negro\n",
      "Processing Record 42 of Set 15 | dedza\n",
      "Processing Record 43 of Set 15 | salalah\n",
      "Processing Record 44 of Set 15 | skagastrond\n",
      "City not found. Skipping...\n",
      "Processing Record 45 of Set 15 | kirovskiy\n",
      "Processing Record 46 of Set 15 | natal\n",
      "Processing Record 47 of Set 15 | nikolskoye\n",
      "Processing Record 48 of Set 15 | vardo\n",
      "Processing Record 49 of Set 15 | nelson bay\n",
      "Processing Record 50 of Set 15 | san pedro\n",
      "Processing Record 1 of Set 16 | huayucachi\n",
      "Processing Record 2 of Set 16 | kokopo\n",
      "Processing Record 3 of Set 16 | belmonte\n",
      "Processing Record 4 of Set 16 | qaanaaq\n",
      "Processing Record 5 of Set 16 | pitsunda\n",
      "Processing Record 6 of Set 16 | kodiak\n",
      "Processing Record 7 of Set 16 | tsihombe\n",
      "City not found. Skipping...\n",
      "Processing Record 8 of Set 16 | troitskoye\n",
      "Processing Record 9 of Set 16 | marzuq\n",
      "Processing Record 10 of Set 16 | rudnogorsk\n",
      "Processing Record 11 of Set 16 | clyde river\n",
      "Processing Record 12 of Set 16 | celestun\n",
      "Processing Record 13 of Set 16 | fairbanks\n",
      "Processing Record 14 of Set 16 | vao\n",
      "Processing Record 15 of Set 16 | jawhar\n",
      "Processing Record 16 of Set 16 | moron\n",
      "Processing Record 17 of Set 16 | itoman\n",
      "Processing Record 18 of Set 16 | nadym\n",
      "Processing Record 19 of Set 16 | yar-sale\n",
      "Processing Record 20 of Set 16 | voh\n",
      "Processing Record 21 of Set 16 | colares\n",
      "Processing Record 22 of Set 16 | saint george\n",
      "Processing Record 23 of Set 16 | sungairaya\n",
      "Processing Record 24 of Set 16 | lakes entrance\n",
      "Processing Record 25 of Set 16 | saint-philippe\n",
      "Processing Record 26 of Set 16 | la asuncion\n",
      "Processing Record 27 of Set 16 | kruisfontein\n",
      "Processing Record 28 of Set 16 | mitrofanovka\n",
      "Processing Record 29 of Set 16 | butaritari\n",
      "Processing Record 30 of Set 16 | dublin\n",
      "Processing Record 31 of Set 16 | mehamn\n",
      "Processing Record 32 of Set 16 | aalen\n",
      "Processing Record 33 of Set 16 | wajir\n",
      "Processing Record 34 of Set 16 | dharmadam\n",
      "Processing Record 35 of Set 16 | angren\n",
      "Processing Record 36 of Set 16 | omboue\n",
      "Processing Record 37 of Set 16 | cidreira\n"
     ]
    },
    {
     "name": "stdout",
     "output_type": "stream",
     "text": [
      "Processing Record 38 of Set 16 | souillac\n",
      "Processing Record 39 of Set 16 | tura\n",
      "Processing Record 40 of Set 16 | nisia floresta\n",
      "Processing Record 41 of Set 16 | east london\n",
      "Processing Record 42 of Set 16 | fare\n",
      "Processing Record 43 of Set 16 | jiuquan\n",
      "Processing Record 44 of Set 16 | altay\n",
      "Processing Record 45 of Set 16 | sola\n",
      "Processing Record 46 of Set 16 | kapoeta\n",
      "Processing Record 47 of Set 16 | ribeira grande\n",
      "Processing Record 48 of Set 16 | beloha\n",
      "Processing Record 49 of Set 16 | tommot\n",
      "Processing Record 50 of Set 16 | nguruka\n",
      "Processing Record 1 of Set 17 | ukiah\n",
      "Processing Record 2 of Set 17 | arrifes\n",
      "Processing Record 3 of Set 17 | shasta lake\n",
      "Processing Record 4 of Set 17 | provideniya\n",
      "Processing Record 5 of Set 17 | raudeberg\n",
      "Processing Record 6 of Set 17 | korablino\n",
      "Processing Record 7 of Set 17 | kinkala\n",
      "Processing Record 8 of Set 17 | husavik\n",
      "Processing Record 9 of Set 17 | itarema\n",
      "Processing Record 10 of Set 17 | berlevag\n",
      "Processing Record 11 of Set 17 | leningradskiy\n",
      "Processing Record 12 of Set 17 | cairns\n",
      "Processing Record 13 of Set 17 | nouadhibou\n",
      "Processing Record 14 of Set 17 | acajutla\n",
      "Processing Record 15 of Set 17 | sinnamary\n",
      "Processing Record 16 of Set 17 | garissa\n",
      "Processing Record 17 of Set 17 | saint andrews\n",
      "Processing Record 18 of Set 17 | rocha\n",
      "Processing Record 19 of Set 17 | hervey bay\n",
      "Processing Record 20 of Set 17 | vila franca do campo\n",
      "Processing Record 21 of Set 17 | sayyan\n",
      "Processing Record 22 of Set 17 | taltal\n",
      "Processing Record 23 of Set 17 | agde\n",
      "Processing Record 24 of Set 17 | paranaiba\n",
      "Processing Record 25 of Set 17 | iqaluit\n",
      "Processing Record 26 of Set 17 | luderitz\n",
      "Processing Record 27 of Set 17 | daru\n",
      "Processing Record 28 of Set 17 | mangan\n",
      "Processing Record 29 of Set 17 | tuggurt\n",
      "City not found. Skipping...\n",
      "Processing Record 30 of Set 17 | taree\n",
      "Processing Record 31 of Set 17 | dargaville\n",
      "Processing Record 32 of Set 17 | komsomolskiy\n",
      "Processing Record 33 of Set 17 | codrington\n",
      "Processing Record 34 of Set 17 | coahuayana\n",
      "Processing Record 35 of Set 17 | nanortalik\n",
      "Processing Record 36 of Set 17 | beringovskiy\n",
      "Processing Record 37 of Set 17 | ardistan\n",
      "City not found. Skipping...\n",
      "Processing Record 38 of Set 17 | nhulunbuy\n",
      "Processing Record 39 of Set 17 | te anau\n",
      "Processing Record 40 of Set 17 | ahipara\n",
      "Processing Record 41 of Set 17 | ambon\n",
      "Processing Record 42 of Set 17 | vista hermosa\n",
      "Processing Record 43 of Set 17 | georgetown\n",
      "Processing Record 44 of Set 17 | illoqqortoormiut\n",
      "City not found. Skipping...\n",
      "Processing Record 45 of Set 17 | katherine\n",
      "Processing Record 46 of Set 17 | bambous virieux\n",
      "Processing Record 47 of Set 17 | manokwari\n",
      "Processing Record 48 of Set 17 | kuminskiy\n",
      "Processing Record 49 of Set 17 | tiznit\n",
      "Processing Record 50 of Set 17 | zelenogorsk\n",
      "Processing Record 1 of Set 18 | narsaq\n",
      "Processing Record 2 of Set 18 | villa union\n",
      "Processing Record 3 of Set 18 | san patricio\n",
      "Processing Record 4 of Set 18 | saint-ambroise\n",
      "Processing Record 5 of Set 18 | lata\n",
      "Processing Record 6 of Set 18 | pochutla\n",
      "Processing Record 7 of Set 18 | liverpool\n",
      "Processing Record 8 of Set 18 | mafinga\n",
      "Processing Record 9 of Set 18 | hami\n",
      "Processing Record 10 of Set 18 | tucuma\n",
      "Processing Record 11 of Set 18 | ogbomosho\n",
      "Processing Record 12 of Set 18 | chlorakas\n",
      "Processing Record 13 of Set 18 | yulara\n",
      "Processing Record 14 of Set 18 | nantucket\n",
      "Processing Record 15 of Set 18 | agua dulce\n",
      "Processing Record 16 of Set 18 | klaksvik\n",
      "Processing Record 17 of Set 18 | taungdwingyi\n",
      "Processing Record 18 of Set 18 | santa rosa\n",
      "Processing Record 19 of Set 18 | hasaki\n",
      "Processing Record 20 of Set 18 | tiarei\n",
      "Processing Record 21 of Set 18 | petropavlovsk-kamchatskiy\n",
      "Processing Record 22 of Set 18 | aranos\n",
      "Processing Record 23 of Set 18 | saint-georges\n",
      "Processing Record 24 of Set 18 | vila velha\n",
      "Processing Record 25 of Set 18 | fortuna\n",
      "Processing Record 26 of Set 18 | kamenka\n",
      "Processing Record 27 of Set 18 | chuguyevka\n",
      "Processing Record 28 of Set 18 | hoquiam\n",
      "Processing Record 29 of Set 18 | narayanpet\n",
      "Processing Record 30 of Set 18 | chagda\n",
      "City not found. Skipping...\n",
      "Processing Record 31 of Set 18 | umzimvubu\n",
      "City not found. Skipping...\n",
      "Processing Record 32 of Set 18 | marang\n",
      "Processing Record 33 of Set 18 | calvia\n",
      "Processing Record 34 of Set 18 | puerto escondido\n",
      "Processing Record 35 of Set 18 | boueni\n",
      "Processing Record 36 of Set 18 | asfi\n",
      "Processing Record 37 of Set 18 | ballina\n",
      "Processing Record 38 of Set 18 | birao\n",
      "Processing Record 39 of Set 18 | antofagasta\n",
      "Processing Record 40 of Set 18 | bethel\n",
      "Processing Record 41 of Set 18 | grajewo\n",
      "Processing Record 42 of Set 18 | porto torres\n",
      "Processing Record 43 of Set 18 | thayetmyo\n",
      "Processing Record 44 of Set 18 | deputatskiy\n",
      "Processing Record 45 of Set 18 | maracacume\n",
      "Processing Record 46 of Set 18 | kargasok\n",
      "Processing Record 47 of Set 18 | belaya gora\n",
      "Processing Record 48 of Set 18 | bolungarvik\n",
      "City not found. Skipping...\n",
      "Processing Record 49 of Set 18 | gizo\n",
      "Processing Record 50 of Set 18 | kaa-khem\n",
      "Processing Record 1 of Set 19 | north myrtle beach\n",
      "Processing Record 2 of Set 19 | marcona\n",
      "City not found. Skipping...\n",
      "Processing Record 3 of Set 19 | kieta\n",
      "Processing Record 4 of Set 19 | belyy yar\n",
      "Processing Record 5 of Set 19 | daitari\n",
      "Processing Record 6 of Set 19 | emba\n",
      "Processing Record 7 of Set 19 | usinsk\n",
      "Processing Record 8 of Set 19 | shetpe\n",
      "Processing Record 9 of Set 19 | vaitape\n",
      "Processing Record 10 of Set 19 | petlawad\n",
      "Processing Record 11 of Set 19 | atkarsk\n",
      "Processing Record 12 of Set 19 | syamzha\n",
      "Processing Record 13 of Set 19 | agua branca\n",
      "Processing Record 14 of Set 19 | miraflores\n",
      "Processing Record 15 of Set 19 | karratha\n",
      "Processing Record 16 of Set 19 | la ronge\n",
      "Processing Record 17 of Set 19 | bonavista\n",
      "Processing Record 18 of Set 19 | hammerfest\n",
      "Processing Record 19 of Set 19 | tarudant\n",
      "City not found. Skipping...\n",
      "Processing Record 20 of Set 19 | tevriz\n",
      "Processing Record 21 of Set 19 | rio gallegos\n",
      "Processing Record 22 of Set 19 | porto nacional\n",
      "Processing Record 23 of Set 19 | castro\n",
      "Processing Record 24 of Set 19 | narbonne\n",
      "Processing Record 25 of Set 19 | elko\n",
      "Processing Record 26 of Set 19 | hofn\n",
      "Processing Record 27 of Set 19 | lavrentiya\n",
      "Processing Record 28 of Set 19 | nuuk\n",
      "Processing Record 29 of Set 19 | berdigestyakh\n",
      "Processing Record 30 of Set 19 | vanimo\n",
      "Processing Record 31 of Set 19 | vila\n",
      "Processing Record 32 of Set 19 | xichang\n",
      "Processing Record 33 of Set 19 | khonuu\n",
      "City not found. Skipping...\n",
      "Processing Record 34 of Set 19 | willowmore\n",
      "Processing Record 35 of Set 19 | tuktoyaktuk\n",
      "Processing Record 36 of Set 19 | anadyr\n",
      "Processing Record 37 of Set 19 | atar\n",
      "Processing Record 38 of Set 19 | attawapiskat\n",
      "City not found. Skipping...\n",
      "Processing Record 39 of Set 19 | yinchuan\n",
      "Processing Record 40 of Set 19 | clarence town\n",
      "Processing Record 41 of Set 19 | belushya guba\n",
      "City not found. Skipping...\n",
      "Processing Record 42 of Set 19 | menongue\n",
      "Processing Record 43 of Set 19 | qinzhou\n",
      "Processing Record 44 of Set 19 | ulze\n",
      "City not found. Skipping...\n",
      "Processing Record 45 of Set 19 | pulandian\n",
      "Processing Record 46 of Set 19 | kavieng\n",
      "Processing Record 47 of Set 19 | bubaque\n",
      "Processing Record 48 of Set 19 | puttur\n",
      "Processing Record 49 of Set 19 | camana\n",
      "Processing Record 50 of Set 19 | payo\n",
      "Processing Record 1 of Set 20 | russell\n",
      "Processing Record 2 of Set 20 | halifax\n",
      "Processing Record 3 of Set 20 | aklavik\n",
      "Processing Record 4 of Set 20 | port elizabeth\n",
      "Processing Record 5 of Set 20 | san cristobal\n",
      "Processing Record 6 of Set 20 | vestmannaeyjar\n",
      "Processing Record 7 of Set 20 | humberto de campos\n",
      "Processing Record 8 of Set 20 | yirol\n",
      "City not found. Skipping...\n",
      "Processing Record 9 of Set 20 | diamantino\n",
      "Processing Record 10 of Set 20 | halalo\n",
      "City not found. Skipping...\n",
      "Processing Record 11 of Set 20 | xining\n",
      "Processing Record 12 of Set 20 | grand forks\n",
      "Processing Record 13 of Set 20 | merauke\n",
      "Processing Record 14 of Set 20 | kandrian\n",
      "Processing Record 15 of Set 20 | kazalinsk\n",
      "City not found. Skipping...\n",
      "Processing Record 16 of Set 20 | nome\n",
      "Processing Record 17 of Set 20 | mabaruma\n",
      "Processing Record 18 of Set 20 | bahia blanca\n",
      "Processing Record 19 of Set 20 | porto novo\n",
      "Processing Record 20 of Set 20 | iroquois falls\n",
      "Processing Record 21 of Set 20 | bulgan\n",
      "Processing Record 22 of Set 20 | kirakira\n",
      "Processing Record 23 of Set 20 | bilibino\n"
     ]
    },
    {
     "name": "stdout",
     "output_type": "stream",
     "text": [
      "Processing Record 24 of Set 20 | sibolga\n",
      "Processing Record 25 of Set 20 | krasnyy chikoy\n",
      "Processing Record 26 of Set 20 | germersheim\n",
      "Processing Record 27 of Set 20 | vikulovo\n",
      "Processing Record 28 of Set 20 | douglas\n",
      "Processing Record 29 of Set 20 | cayenne\n",
      "Processing Record 30 of Set 20 | tapes\n",
      "Processing Record 31 of Set 20 | esperance\n",
      "Processing Record 32 of Set 20 | mys shmidta\n",
      "City not found. Skipping...\n",
      "Processing Record 33 of Set 20 | taoudenni\n",
      "Processing Record 34 of Set 20 | touros\n",
      "Processing Record 35 of Set 20 | koraput\n",
      "Processing Record 36 of Set 20 | verkhoturye\n",
      "Processing Record 37 of Set 20 | sivas\n",
      "Processing Record 38 of Set 20 | poltava\n",
      "Processing Record 39 of Set 20 | kendal\n",
      "Processing Record 40 of Set 20 | arti\n",
      "Processing Record 41 of Set 20 | yuancheng\n",
      "Processing Record 42 of Set 20 | vung tau\n",
      "Processing Record 43 of Set 20 | finschhafen\n",
      "Processing Record 44 of Set 20 | doha\n",
      "Processing Record 45 of Set 20 | la baule-escoublac\n",
      "Processing Record 46 of Set 20 | jever\n",
      "Processing Record 47 of Set 20 | faanui\n",
      "Processing Record 48 of Set 20 | gondanglegi\n",
      "Processing Record 49 of Set 20 | chapada dos guimaraes\n",
      "Processing Record 50 of Set 20 | san roque\n",
      "Processing Record 1 of Set 21 | idil\n",
      "Processing Record 2 of Set 21 | turukhansk\n",
      "Processing Record 3 of Set 21 | srednekolymsk\n",
      "Processing Record 4 of Set 21 | wewak\n",
      "Processing Record 5 of Set 21 | galiwinku\n",
      "City not found. Skipping...\n",
      "Processing Record 6 of Set 21 | sorland\n",
      "Processing Record 7 of Set 21 | tumannyy\n",
      "City not found. Skipping...\n",
      "Processing Record 8 of Set 21 | constantine\n",
      "Processing Record 9 of Set 21 | nampula\n",
      "Processing Record 10 of Set 21 | chipata\n",
      "Processing Record 11 of Set 21 | nyurba\n",
      "Processing Record 12 of Set 21 | paamiut\n",
      "Processing Record 13 of Set 21 | tombouctou\n",
      "Processing Record 14 of Set 21 | necochea\n",
      "Processing Record 15 of Set 21 | rio grande\n",
      "Processing Record 16 of Set 21 | praia\n",
      "Processing Record 17 of Set 21 | nizhneyansk\n",
      "City not found. Skipping...\n",
      "Processing Record 18 of Set 21 | avera\n",
      "Processing Record 19 of Set 21 | taunggyi\n",
      "Processing Record 20 of Set 21 | port moresby\n",
      "Processing Record 21 of Set 21 | norman wells\n",
      "Processing Record 22 of Set 21 | sokur\n",
      "Processing Record 23 of Set 21 | camacha\n",
      "Processing Record 24 of Set 21 | bireun\n",
      "Processing Record 25 of Set 21 | sedelnikovo\n",
      "City not found. Skipping...\n",
      "Processing Record 26 of Set 21 | cabo san lucas\n",
      "Processing Record 27 of Set 21 | aller\n",
      "Processing Record 28 of Set 21 | sur\n",
      "Processing Record 29 of Set 21 | wanning\n",
      "Processing Record 30 of Set 21 | akdepe\n",
      "Processing Record 31 of Set 21 | tecoanapa\n",
      "Processing Record 32 of Set 21 | saleaula\n",
      "City not found. Skipping...\n",
      "Processing Record 33 of Set 21 | yerbogachen\n",
      "Processing Record 34 of Set 21 | bagrami\n",
      "Processing Record 35 of Set 21 | obihiro\n",
      "Processing Record 36 of Set 21 | pimentel\n",
      "Processing Record 37 of Set 21 | naze\n",
      "Processing Record 38 of Set 21 | yumen\n",
      "Processing Record 39 of Set 21 | pangai\n",
      "Processing Record 40 of Set 21 | dombas\n",
      "Processing Record 41 of Set 21 | sattenapalle\n",
      "Processing Record 42 of Set 21 | saint-joseph\n",
      "Processing Record 43 of Set 21 | faya\n",
      "Processing Record 44 of Set 21 | bereda\n",
      "Processing Record 45 of Set 21 | virginia beach\n",
      "Processing Record 46 of Set 21 | dukat\n",
      "Processing Record 47 of Set 21 | clearwater\n",
      "Processing Record 48 of Set 21 | lovozero\n",
      "Processing Record 49 of Set 21 | kuytun\n",
      "Processing Record 50 of Set 21 | dzhusaly\n",
      "City not found. Skipping...\n",
      "Processing Record 1 of Set 22 | lasa\n",
      "Processing Record 2 of Set 22 | acapulco\n",
      "Processing Record 3 of Set 22 | tautira\n",
      "Processing Record 4 of Set 22 | mont-dore\n",
      "Processing Record 5 of Set 22 | la macarena\n",
      "Processing Record 6 of Set 22 | amahai\n",
      "Processing Record 7 of Set 22 | norden\n",
      "Processing Record 8 of Set 22 | jomalig\n",
      "City not found. Skipping...\n",
      "Processing Record 9 of Set 22 | san rafael\n",
      "Processing Record 10 of Set 22 | katsuura\n",
      "Processing Record 11 of Set 22 | kharp\n",
      "Processing Record 12 of Set 22 | mahibadhoo\n",
      "Processing Record 13 of Set 22 | chapais\n",
      "Processing Record 14 of Set 22 | kyren\n",
      "Processing Record 15 of Set 22 | angoche\n",
      "Processing Record 16 of Set 22 | lewistown\n",
      "Processing Record 17 of Set 22 | collie\n",
      "Processing Record 18 of Set 22 | victoria\n",
      "Processing Record 19 of Set 22 | karwar\n",
      "Processing Record 20 of Set 22 | verkhnevilyuysk\n",
      "Processing Record 21 of Set 22 | vila nova de milfontes\n",
      "Processing Record 22 of Set 22 | carmen\n",
      "Processing Record 23 of Set 22 | pavilosta\n",
      "Processing Record 24 of Set 22 | shirokiy\n",
      "Processing Record 25 of Set 22 | sfantu gheorghe\n",
      "Processing Record 26 of Set 22 | lolua\n",
      "City not found. Skipping...\n",
      "Processing Record 27 of Set 22 | kudahuvadhoo\n",
      "Processing Record 28 of Set 22 | rochegda\n",
      "Processing Record 29 of Set 22 | road town\n",
      "Processing Record 30 of Set 22 | poum\n",
      "Processing Record 31 of Set 22 | kankon\n",
      "Processing Record 32 of Set 22 | port said\n",
      "Processing Record 33 of Set 22 | magole\n",
      "Processing Record 34 of Set 22 | amderma\n",
      "City not found. Skipping...\n",
      "Processing Record 35 of Set 22 | ahuimanu\n",
      "Processing Record 36 of Set 22 | mikhaylov\n",
      "Processing Record 37 of Set 22 | amga\n",
      "Processing Record 38 of Set 22 | baruun-urt\n",
      "Processing Record 39 of Set 22 | hunza\n",
      "City not found. Skipping...\n",
      "Processing Record 40 of Set 22 | baie-comeau\n",
      "Processing Record 41 of Set 22 | esmeraldas\n",
      "Processing Record 42 of Set 22 | portree\n",
      "Processing Record 43 of Set 22 | viligili\n",
      "City not found. Skipping...\n",
      "Processing Record 44 of Set 22 | cap malheureux\n",
      "Processing Record 45 of Set 22 | el alto\n",
      "Processing Record 46 of Set 22 | kabul\n",
      "Processing Record 47 of Set 22 | ovsyanka\n",
      "Processing Record 48 of Set 22 | san jose\n",
      "Processing Record 49 of Set 22 | vostok\n",
      "Processing Record 50 of Set 22 | aleksandrov gay\n",
      "Processing Record 1 of Set 23 | college\n",
      "Processing Record 2 of Set 23 | nemuro\n",
      "Processing Record 3 of Set 23 | chincha alta\n",
      "Processing Record 4 of Set 23 | abay\n",
      "Processing Record 5 of Set 23 | erzin\n",
      "Processing Record 6 of Set 23 | imuris\n",
      "Processing Record 7 of Set 23 | youghal\n",
      "Processing Record 8 of Set 23 | pokhara\n",
      "Processing Record 9 of Set 23 | prince rupert\n",
      "Processing Record 10 of Set 23 | toamasina\n",
      "Processing Record 11 of Set 23 | macaboboni\n",
      "City not found. Skipping...\n",
      "Processing Record 12 of Set 23 | inuvik\n",
      "Processing Record 13 of Set 23 | saldanha\n",
      "Processing Record 14 of Set 23 | the valley\n",
      "Processing Record 15 of Set 23 | hobyo\n",
      "Processing Record 16 of Set 23 | banda aceh\n",
      "Processing Record 17 of Set 23 | anchorage\n",
      "Processing Record 18 of Set 23 | zhigansk\n",
      "Processing Record 19 of Set 23 | ancud\n",
      "Processing Record 20 of Set 23 | gurskoye\n",
      "City not found. Skipping...\n",
      "Processing Record 21 of Set 23 | jati\n",
      "Processing Record 22 of Set 23 | nauta\n",
      "Processing Record 23 of Set 23 | chamalieres\n",
      "Processing Record 24 of Set 23 | koslan\n",
      "Processing Record 25 of Set 23 | george\n",
      "Processing Record 26 of Set 23 | alice springs\n",
      "Processing Record 27 of Set 23 | hualmay\n",
      "Processing Record 28 of Set 23 | burnie\n",
      "Processing Record 29 of Set 23 | rundu\n",
      "Processing Record 30 of Set 23 | hokitika\n",
      "Processing Record 31 of Set 23 | richards bay\n",
      "Processing Record 32 of Set 23 | araouane\n",
      "Processing Record 33 of Set 23 | mooi river\n",
      "City not found. Skipping...\n",
      "Processing Record 34 of Set 23 | santa eulalia del rio\n",
      "City not found. Skipping...\n",
      "Processing Record 35 of Set 23 | mayor pablo lagerenza\n",
      "Processing Record 36 of Set 23 | teknaf\n",
      "Processing Record 37 of Set 23 | khlevnoye\n",
      "Processing Record 38 of Set 23 | kracheh\n",
      "City not found. Skipping...\n",
      "Processing Record 39 of Set 23 | aykhal\n",
      "Processing Record 40 of Set 23 | zorritos\n",
      "Processing Record 41 of Set 23 | zhezkazgan\n",
      "Processing Record 42 of Set 23 | lae\n",
      "Processing Record 43 of Set 23 | longyearbyen\n",
      "Processing Record 44 of Set 23 | pisco\n",
      "Processing Record 45 of Set 23 | adrar\n",
      "Processing Record 46 of Set 23 | tutoia\n",
      "Processing Record 47 of Set 23 | scalloway\n",
      "City not found. Skipping...\n",
      "Processing Record 48 of Set 23 | eaton socon\n",
      "Processing Record 49 of Set 23 | vaitupu\n",
      "City not found. Skipping...\n",
      "Processing Record 50 of Set 23 | uglegorsk\n",
      "Processing Record 1 of Set 24 | namatanai\n",
      "Processing Record 2 of Set 24 | mbandaka\n",
      "Processing Record 3 of Set 24 | pokrovka\n",
      "Processing Record 4 of Set 24 | galveston\n",
      "Processing Record 5 of Set 24 | gotsu\n",
      "Processing Record 6 of Set 24 | dekoa\n",
      "City not found. Skipping...\n",
      "Processing Record 7 of Set 24 | makakilo city\n"
     ]
    },
    {
     "name": "stdout",
     "output_type": "stream",
     "text": [
      "Processing Record 8 of Set 24 | araxa\n",
      "Processing Record 9 of Set 24 | witu\n",
      "Processing Record 10 of Set 24 | oistins\n",
      "Processing Record 11 of Set 24 | preobrazheniye\n",
      "Processing Record 12 of Set 24 | mildura\n",
      "Processing Record 13 of Set 24 | uwayl\n",
      "City not found. Skipping...\n",
      "Processing Record 14 of Set 24 | farrukhnagar\n",
      "Processing Record 15 of Set 24 | mocambique\n",
      "City not found. Skipping...\n",
      "Processing Record 16 of Set 24 | doembang nangbuat\n",
      "Processing Record 17 of Set 24 | palmer\n",
      "Processing Record 18 of Set 24 | vada\n",
      "Processing Record 19 of Set 24 | shihezi\n",
      "Processing Record 20 of Set 24 | mogadishu\n",
      "Processing Record 21 of Set 24 | floro\n",
      "Processing Record 22 of Set 24 | port-cartier\n",
      "Processing Record 23 of Set 24 | charters towers\n",
      "Processing Record 24 of Set 24 | phonhong\n",
      "Processing Record 25 of Set 24 | patnos\n",
      "Processing Record 26 of Set 24 | santona\n",
      "Processing Record 27 of Set 24 | denpasar\n",
      "Processing Record 28 of Set 24 | upata\n",
      "Processing Record 29 of Set 24 | asau\n",
      "Processing Record 30 of Set 24 | yeppoon\n",
      "Processing Record 31 of Set 24 | sao miguel\n",
      "Processing Record 32 of Set 24 | puri\n",
      "Processing Record 33 of Set 24 | ostrovnoy\n",
      "Processing Record 34 of Set 24 | bac lieu\n",
      "Processing Record 35 of Set 24 | maldonado\n",
      "Processing Record 36 of Set 24 | mocuba\n",
      "Processing Record 37 of Set 24 | dunkwa\n",
      "Processing Record 38 of Set 24 | wanaka\n",
      "Processing Record 39 of Set 24 | alofi\n",
      "Processing Record 40 of Set 24 | pingyin\n",
      "Processing Record 41 of Set 24 | roros\n",
      "Processing Record 42 of Set 24 | valdivia\n",
      "Processing Record 43 of Set 24 | campeche\n",
      "Processing Record 44 of Set 24 | hostotipaquillo\n",
      "Processing Record 45 of Set 24 | praia da vitoria\n",
      "Processing Record 46 of Set 24 | tasbuget\n",
      "City not found. Skipping...\n",
      "Processing Record 47 of Set 24 | joshimath\n",
      "Processing Record 48 of Set 24 | keetmanshoop\n",
      "Processing Record 49 of Set 24 | somerset\n",
      "Processing Record 50 of Set 24 | plouzane\n",
      "Processing Record 1 of Set 25 | casa nova\n",
      "Processing Record 2 of Set 25 | qaqortoq\n",
      "Processing Record 3 of Set 25 | baghdad\n",
      "Processing Record 4 of Set 25 | kerema\n",
      "Processing Record 5 of Set 25 | rjukan\n",
      "Processing Record 6 of Set 25 | monrovia\n",
      "Processing Record 7 of Set 25 | krasnik\n",
      "Processing Record 8 of Set 25 | tongren\n",
      "Processing Record 9 of Set 25 | tucurui\n",
      "Processing Record 10 of Set 25 | andevoranto\n",
      "City not found. Skipping...\n",
      "Processing Record 11 of Set 25 | cuamba\n",
      "Processing Record 12 of Set 25 | saint-augustin\n",
      "Processing Record 13 of Set 25 | lagoa\n",
      "Processing Record 14 of Set 25 | manzil kamil\n",
      "Processing Record 15 of Set 25 | laizhou\n",
      "Processing Record 16 of Set 25 | roald\n",
      "Processing Record 17 of Set 25 | vasyshcheve\n",
      "Processing Record 18 of Set 25 | mecca\n",
      "Processing Record 19 of Set 25 | geraldton\n",
      "Processing Record 20 of Set 25 | roebourne\n",
      "Processing Record 21 of Set 25 | gamba\n",
      "Processing Record 22 of Set 25 | palembang\n",
      "Processing Record 23 of Set 25 | adamas\n",
      "-----------------------------\n",
      "Data Retrieval Complete      \n",
      "-----------------------------\n"
     ]
    }
   ],
   "source": [
    "# Loop through all the cities in the list.\n",
    "for i, city in enumerate(cities):\n",
    "\n",
    "    # Group cities in sets of 50 for logging purposes.\n",
    "    if (i % 50 == 0 and i >= 50):\n",
    "        set_count += 1\n",
    "        record_count = 1\n",
    "    # Create endpoint URL with each city.\n",
    "    city_url = url + \"&q=\" + city.replace(\" \",\"+\")\n",
    "\n",
    "    # Log the URL, record, and set numbers and the city.\n",
    "    print(f\"Processing Record {record_count} of Set {set_count} | {city}\")\n",
    "    # Add 1 to the record count.\n",
    "    record_count += 1\n",
    "    # Run an API request for each of the cities.\n",
    "    try:\n",
    "        # Parse the JSON and retrieve data.\n",
    "        city_weather = requests.get(city_url).json()\n",
    "        # Parse out the needed data.\n",
    "        city_lat = city_weather[\"coord\"][\"lat\"]\n",
    "        city_lng = city_weather[\"coord\"][\"lon\"]\n",
    "        city_max_temp = city_weather[\"main\"][\"temp_max\"]\n",
    "        city_humidity = city_weather[\"main\"][\"humidity\"]\n",
    "        city_clouds = city_weather[\"clouds\"][\"all\"]\n",
    "        city_wind = city_weather[\"wind\"][\"speed\"]\n",
    "        city_country = city_weather[\"sys\"][\"country\"]\n",
    "        # Convert the date to ISO standard.\n",
    "        city_date = datetime.utcfromtimestamp(city_weather[\"dt\"]).strftime('%Y-%m-%d %H:%M:%S')\n",
    "        # Append the city information into city_data list.\n",
    "        city_data.append({\"City\": city.title(),\n",
    "                          \"Lat\": city_lat,\n",
    "                          \"Lng\": city_lng,\n",
    "                          \"Max Temp\": city_max_temp,\n",
    "                          \"Humidity\": city_humidity,\n",
    "                          \"Cloudiness\": city_clouds,\n",
    "                          \"Wind Speed\": city_wind,\n",
    "                          \"Country\": city_country,\n",
    "                          \"Date\": city_date})\n",
    "\n",
    "# If an error is experienced, skip the city.\n",
    "    except:\n",
    "        print(\"City not found. Skipping...\")\n",
    "        pass\n",
    "\n",
    "# Indicate that Data Loading is complete.\n",
    "print(\"-----------------------------\")\n",
    "print(\"Data Retrieval Complete      \")\n",
    "print(\"-----------------------------\")"
   ]
  },
  {
   "cell_type": "code",
   "execution_count": 23,
   "metadata": {},
   "outputs": [
    {
     "data": {
      "text/plain": [
       "571"
      ]
     },
     "execution_count": 23,
     "metadata": {},
     "output_type": "execute_result"
    }
   ],
   "source": [
    "len(city_data)"
   ]
  },
  {
   "cell_type": "code",
   "execution_count": 24,
   "metadata": {},
   "outputs": [
    {
     "data": {
      "text/html": [
       "<div>\n",
       "<style scoped>\n",
       "    .dataframe tbody tr th:only-of-type {\n",
       "        vertical-align: middle;\n",
       "    }\n",
       "\n",
       "    .dataframe tbody tr th {\n",
       "        vertical-align: top;\n",
       "    }\n",
       "\n",
       "    .dataframe thead th {\n",
       "        text-align: right;\n",
       "    }\n",
       "</style>\n",
       "<table border=\"1\" class=\"dataframe\">\n",
       "  <thead>\n",
       "    <tr style=\"text-align: right;\">\n",
       "      <th></th>\n",
       "      <th>City</th>\n",
       "      <th>Lat</th>\n",
       "      <th>Lng</th>\n",
       "      <th>Max Temp</th>\n",
       "      <th>Humidity</th>\n",
       "      <th>Cloudiness</th>\n",
       "      <th>Wind Speed</th>\n",
       "      <th>Country</th>\n",
       "      <th>Date</th>\n",
       "    </tr>\n",
       "  </thead>\n",
       "  <tbody>\n",
       "    <tr>\n",
       "      <th>0</th>\n",
       "      <td>Tasiilaq</td>\n",
       "      <td>65.61</td>\n",
       "      <td>-37.64</td>\n",
       "      <td>42.80</td>\n",
       "      <td>81</td>\n",
       "      <td>100</td>\n",
       "      <td>1.21</td>\n",
       "      <td>GL</td>\n",
       "      <td>2020-06-24 02:34:33</td>\n",
       "    </tr>\n",
       "    <tr>\n",
       "      <th>1</th>\n",
       "      <td>Ushuaia</td>\n",
       "      <td>-54.80</td>\n",
       "      <td>-68.30</td>\n",
       "      <td>33.80</td>\n",
       "      <td>86</td>\n",
       "      <td>90</td>\n",
       "      <td>18.34</td>\n",
       "      <td>AR</td>\n",
       "      <td>2020-06-24 02:34:20</td>\n",
       "    </tr>\n",
       "    <tr>\n",
       "      <th>2</th>\n",
       "      <td>Chokurdakh</td>\n",
       "      <td>70.63</td>\n",
       "      <td>147.92</td>\n",
       "      <td>76.69</td>\n",
       "      <td>26</td>\n",
       "      <td>49</td>\n",
       "      <td>8.08</td>\n",
       "      <td>RU</td>\n",
       "      <td>2020-06-24 02:36:51</td>\n",
       "    </tr>\n",
       "    <tr>\n",
       "      <th>3</th>\n",
       "      <td>Rikitea</td>\n",
       "      <td>-23.12</td>\n",
       "      <td>-134.97</td>\n",
       "      <td>69.94</td>\n",
       "      <td>53</td>\n",
       "      <td>84</td>\n",
       "      <td>9.53</td>\n",
       "      <td>PF</td>\n",
       "      <td>2020-06-24 02:36:51</td>\n",
       "    </tr>\n",
       "    <tr>\n",
       "      <th>4</th>\n",
       "      <td>Bluff</td>\n",
       "      <td>-46.60</td>\n",
       "      <td>168.33</td>\n",
       "      <td>48.54</td>\n",
       "      <td>84</td>\n",
       "      <td>93</td>\n",
       "      <td>14.18</td>\n",
       "      <td>NZ</td>\n",
       "      <td>2020-06-24 02:36:51</td>\n",
       "    </tr>\n",
       "    <tr>\n",
       "      <th>5</th>\n",
       "      <td>Talnakh</td>\n",
       "      <td>69.49</td>\n",
       "      <td>88.40</td>\n",
       "      <td>62.60</td>\n",
       "      <td>55</td>\n",
       "      <td>100</td>\n",
       "      <td>6.71</td>\n",
       "      <td>RU</td>\n",
       "      <td>2020-06-24 02:35:38</td>\n",
       "    </tr>\n",
       "    <tr>\n",
       "      <th>6</th>\n",
       "      <td>Dahanu</td>\n",
       "      <td>19.97</td>\n",
       "      <td>72.73</td>\n",
       "      <td>84.54</td>\n",
       "      <td>77</td>\n",
       "      <td>40</td>\n",
       "      <td>14.16</td>\n",
       "      <td>IN</td>\n",
       "      <td>2020-06-24 02:36:51</td>\n",
       "    </tr>\n",
       "    <tr>\n",
       "      <th>7</th>\n",
       "      <td>San Quintin</td>\n",
       "      <td>30.48</td>\n",
       "      <td>-115.95</td>\n",
       "      <td>64.54</td>\n",
       "      <td>85</td>\n",
       "      <td>97</td>\n",
       "      <td>14.20</td>\n",
       "      <td>MX</td>\n",
       "      <td>2020-06-24 02:36:52</td>\n",
       "    </tr>\n",
       "    <tr>\n",
       "      <th>8</th>\n",
       "      <td>Henties Bay</td>\n",
       "      <td>-22.12</td>\n",
       "      <td>14.28</td>\n",
       "      <td>60.01</td>\n",
       "      <td>75</td>\n",
       "      <td>0</td>\n",
       "      <td>16.96</td>\n",
       "      <td>NA</td>\n",
       "      <td>2020-06-24 02:36:52</td>\n",
       "    </tr>\n",
       "    <tr>\n",
       "      <th>9</th>\n",
       "      <td>Cape Town</td>\n",
       "      <td>-33.93</td>\n",
       "      <td>18.42</td>\n",
       "      <td>51.01</td>\n",
       "      <td>100</td>\n",
       "      <td>0</td>\n",
       "      <td>8.05</td>\n",
       "      <td>ZA</td>\n",
       "      <td>2020-06-24 02:34:08</td>\n",
       "    </tr>\n",
       "  </tbody>\n",
       "</table>\n",
       "</div>"
      ],
      "text/plain": [
       "          City    Lat     Lng  Max Temp  Humidity  Cloudiness  Wind Speed  \\\n",
       "0     Tasiilaq  65.61  -37.64     42.80        81         100        1.21   \n",
       "1      Ushuaia -54.80  -68.30     33.80        86          90       18.34   \n",
       "2   Chokurdakh  70.63  147.92     76.69        26          49        8.08   \n",
       "3      Rikitea -23.12 -134.97     69.94        53          84        9.53   \n",
       "4        Bluff -46.60  168.33     48.54        84          93       14.18   \n",
       "5      Talnakh  69.49   88.40     62.60        55         100        6.71   \n",
       "6       Dahanu  19.97   72.73     84.54        77          40       14.16   \n",
       "7  San Quintin  30.48 -115.95     64.54        85          97       14.20   \n",
       "8  Henties Bay -22.12   14.28     60.01        75           0       16.96   \n",
       "9    Cape Town -33.93   18.42     51.01       100           0        8.05   \n",
       "\n",
       "  Country                 Date  \n",
       "0      GL  2020-06-24 02:34:33  \n",
       "1      AR  2020-06-24 02:34:20  \n",
       "2      RU  2020-06-24 02:36:51  \n",
       "3      PF  2020-06-24 02:36:51  \n",
       "4      NZ  2020-06-24 02:36:51  \n",
       "5      RU  2020-06-24 02:35:38  \n",
       "6      IN  2020-06-24 02:36:51  \n",
       "7      MX  2020-06-24 02:36:52  \n",
       "8      NA  2020-06-24 02:36:52  \n",
       "9      ZA  2020-06-24 02:34:08  "
      ]
     },
     "execution_count": 24,
     "metadata": {},
     "output_type": "execute_result"
    }
   ],
   "source": [
    "# Convert the array of dictionaries to a Pandas DataFrame.\n",
    "city_data_df = pd.DataFrame(city_data)\n",
    "city_data_df.head(10)"
   ]
  },
  {
   "cell_type": "code",
   "execution_count": 26,
   "metadata": {},
   "outputs": [
    {
     "data": {
      "text/plain": [
       "['City',\n",
       " 'Country',\n",
       " 'Date',\n",
       " 'Lat',\n",
       " 'Lng',\n",
       " 'Max Temp',\n",
       " 'Humidity',\n",
       " 'Cloudiness',\n",
       " 'Wind Speed']"
      ]
     },
     "execution_count": 26,
     "metadata": {},
     "output_type": "execute_result"
    }
   ],
   "source": [
    "new_columns = [\"City\", \"Country\", \"Date\", \"Lat\", \"Lng\", \"Max Temp\", \"Humidity\", \"Cloudiness\", \"Wind Speed\"]\n",
    "new_columns"
   ]
  },
  {
   "cell_type": "code",
   "execution_count": 27,
   "metadata": {},
   "outputs": [],
   "source": [
    "city_data_df = city_data_df[new_columns]"
   ]
  },
  {
   "cell_type": "code",
   "execution_count": 28,
   "metadata": {},
   "outputs": [
    {
     "data": {
      "text/html": [
       "<div>\n",
       "<style scoped>\n",
       "    .dataframe tbody tr th:only-of-type {\n",
       "        vertical-align: middle;\n",
       "    }\n",
       "\n",
       "    .dataframe tbody tr th {\n",
       "        vertical-align: top;\n",
       "    }\n",
       "\n",
       "    .dataframe thead th {\n",
       "        text-align: right;\n",
       "    }\n",
       "</style>\n",
       "<table border=\"1\" class=\"dataframe\">\n",
       "  <thead>\n",
       "    <tr style=\"text-align: right;\">\n",
       "      <th></th>\n",
       "      <th>City</th>\n",
       "      <th>Country</th>\n",
       "      <th>Date</th>\n",
       "      <th>Lat</th>\n",
       "      <th>Lng</th>\n",
       "      <th>Max Temp</th>\n",
       "      <th>Humidity</th>\n",
       "      <th>Cloudiness</th>\n",
       "      <th>Wind Speed</th>\n",
       "    </tr>\n",
       "  </thead>\n",
       "  <tbody>\n",
       "    <tr>\n",
       "      <th>0</th>\n",
       "      <td>Tasiilaq</td>\n",
       "      <td>GL</td>\n",
       "      <td>2020-06-24 02:34:33</td>\n",
       "      <td>65.61</td>\n",
       "      <td>-37.64</td>\n",
       "      <td>42.80</td>\n",
       "      <td>81</td>\n",
       "      <td>100</td>\n",
       "      <td>1.21</td>\n",
       "    </tr>\n",
       "    <tr>\n",
       "      <th>1</th>\n",
       "      <td>Ushuaia</td>\n",
       "      <td>AR</td>\n",
       "      <td>2020-06-24 02:34:20</td>\n",
       "      <td>-54.80</td>\n",
       "      <td>-68.30</td>\n",
       "      <td>33.80</td>\n",
       "      <td>86</td>\n",
       "      <td>90</td>\n",
       "      <td>18.34</td>\n",
       "    </tr>\n",
       "    <tr>\n",
       "      <th>2</th>\n",
       "      <td>Chokurdakh</td>\n",
       "      <td>RU</td>\n",
       "      <td>2020-06-24 02:36:51</td>\n",
       "      <td>70.63</td>\n",
       "      <td>147.92</td>\n",
       "      <td>76.69</td>\n",
       "      <td>26</td>\n",
       "      <td>49</td>\n",
       "      <td>8.08</td>\n",
       "    </tr>\n",
       "    <tr>\n",
       "      <th>3</th>\n",
       "      <td>Rikitea</td>\n",
       "      <td>PF</td>\n",
       "      <td>2020-06-24 02:36:51</td>\n",
       "      <td>-23.12</td>\n",
       "      <td>-134.97</td>\n",
       "      <td>69.94</td>\n",
       "      <td>53</td>\n",
       "      <td>84</td>\n",
       "      <td>9.53</td>\n",
       "    </tr>\n",
       "    <tr>\n",
       "      <th>4</th>\n",
       "      <td>Bluff</td>\n",
       "      <td>NZ</td>\n",
       "      <td>2020-06-24 02:36:51</td>\n",
       "      <td>-46.60</td>\n",
       "      <td>168.33</td>\n",
       "      <td>48.54</td>\n",
       "      <td>84</td>\n",
       "      <td>93</td>\n",
       "      <td>14.18</td>\n",
       "    </tr>\n",
       "    <tr>\n",
       "      <th>...</th>\n",
       "      <td>...</td>\n",
       "      <td>...</td>\n",
       "      <td>...</td>\n",
       "      <td>...</td>\n",
       "      <td>...</td>\n",
       "      <td>...</td>\n",
       "      <td>...</td>\n",
       "      <td>...</td>\n",
       "      <td>...</td>\n",
       "    </tr>\n",
       "    <tr>\n",
       "      <th>566</th>\n",
       "      <td>Geraldton</td>\n",
       "      <td>AU</td>\n",
       "      <td>2020-06-24 02:35:36</td>\n",
       "      <td>-28.77</td>\n",
       "      <td>114.60</td>\n",
       "      <td>64.40</td>\n",
       "      <td>77</td>\n",
       "      <td>75</td>\n",
       "      <td>3.36</td>\n",
       "    </tr>\n",
       "    <tr>\n",
       "      <th>567</th>\n",
       "      <td>Roebourne</td>\n",
       "      <td>AU</td>\n",
       "      <td>2020-06-24 02:37:38</td>\n",
       "      <td>-20.78</td>\n",
       "      <td>117.13</td>\n",
       "      <td>80.31</td>\n",
       "      <td>27</td>\n",
       "      <td>0</td>\n",
       "      <td>10.25</td>\n",
       "    </tr>\n",
       "    <tr>\n",
       "      <th>568</th>\n",
       "      <td>Gamba</td>\n",
       "      <td>GA</td>\n",
       "      <td>2020-06-24 02:37:39</td>\n",
       "      <td>-2.65</td>\n",
       "      <td>10.00</td>\n",
       "      <td>71.15</td>\n",
       "      <td>91</td>\n",
       "      <td>75</td>\n",
       "      <td>4.25</td>\n",
       "    </tr>\n",
       "    <tr>\n",
       "      <th>569</th>\n",
       "      <td>Palembang</td>\n",
       "      <td>ID</td>\n",
       "      <td>2020-06-24 02:37:39</td>\n",
       "      <td>-2.92</td>\n",
       "      <td>104.75</td>\n",
       "      <td>81.27</td>\n",
       "      <td>82</td>\n",
       "      <td>100</td>\n",
       "      <td>4.47</td>\n",
       "    </tr>\n",
       "    <tr>\n",
       "      <th>570</th>\n",
       "      <td>Adamas</td>\n",
       "      <td>GR</td>\n",
       "      <td>2020-06-24 02:37:39</td>\n",
       "      <td>36.73</td>\n",
       "      <td>24.43</td>\n",
       "      <td>71.60</td>\n",
       "      <td>94</td>\n",
       "      <td>0</td>\n",
       "      <td>6.93</td>\n",
       "    </tr>\n",
       "  </tbody>\n",
       "</table>\n",
       "<p>571 rows × 9 columns</p>\n",
       "</div>"
      ],
      "text/plain": [
       "           City Country                 Date    Lat     Lng  Max Temp  \\\n",
       "0      Tasiilaq      GL  2020-06-24 02:34:33  65.61  -37.64     42.80   \n",
       "1       Ushuaia      AR  2020-06-24 02:34:20 -54.80  -68.30     33.80   \n",
       "2    Chokurdakh      RU  2020-06-24 02:36:51  70.63  147.92     76.69   \n",
       "3       Rikitea      PF  2020-06-24 02:36:51 -23.12 -134.97     69.94   \n",
       "4         Bluff      NZ  2020-06-24 02:36:51 -46.60  168.33     48.54   \n",
       "..          ...     ...                  ...    ...     ...       ...   \n",
       "566   Geraldton      AU  2020-06-24 02:35:36 -28.77  114.60     64.40   \n",
       "567   Roebourne      AU  2020-06-24 02:37:38 -20.78  117.13     80.31   \n",
       "568       Gamba      GA  2020-06-24 02:37:39  -2.65   10.00     71.15   \n",
       "569   Palembang      ID  2020-06-24 02:37:39  -2.92  104.75     81.27   \n",
       "570      Adamas      GR  2020-06-24 02:37:39  36.73   24.43     71.60   \n",
       "\n",
       "     Humidity  Cloudiness  Wind Speed  \n",
       "0          81         100        1.21  \n",
       "1          86          90       18.34  \n",
       "2          26          49        8.08  \n",
       "3          53          84        9.53  \n",
       "4          84          93       14.18  \n",
       "..        ...         ...         ...  \n",
       "566        77          75        3.36  \n",
       "567        27           0       10.25  \n",
       "568        91          75        4.25  \n",
       "569        82         100        4.47  \n",
       "570        94           0        6.93  \n",
       "\n",
       "[571 rows x 9 columns]"
      ]
     },
     "execution_count": 28,
     "metadata": {},
     "output_type": "execute_result"
    }
   ],
   "source": [
    "city_data_df"
   ]
  },
  {
   "cell_type": "markdown",
   "metadata": {},
   "source": [
    "# Stem Exercise\n"
   ]
  },
  {
   "cell_type": "code",
   "execution_count": 30,
   "metadata": {},
   "outputs": [],
   "source": [
    "# Create the output file (CSV).\n",
    "output_data_file = \"weather_data/cities.csv\"\n",
    "# Export the City_Data into a CSV.\n",
    "city_data_df.to_csv(output_data_file, index_label=\"City_ID\")"
   ]
  },
  {
   "cell_type": "code",
   "execution_count": 33,
   "metadata": {},
   "outputs": [],
   "source": [
    "# Extract relevant fields from the DataFrame for plotting.\n",
    "lats = city_data_df[\"Lat\"]\n",
    "max_temps = city_data_df[\"Max Temp\"]\n",
    "humidity = city_data_df[\"Humidity\"]\n",
    "cloudiness = city_data_df[\"Cloudiness\"]\n",
    "wind_speed = city_data_df[\"Wind Speed\"]"
   ]
  },
  {
   "cell_type": "code",
   "execution_count": 37,
   "metadata": {},
   "outputs": [
    {
     "data": {
      "text/plain": [
       "'06/23/20'"
      ]
     },
     "execution_count": 37,
     "metadata": {},
     "output_type": "execute_result"
    }
   ],
   "source": [
    "# Import the time module.\n",
    "import time\n",
    "# Get today's date in seconds.\n",
    "today = time.strftime(\"%x\")\n",
    "today\n"
   ]
  },
  {
   "cell_type": "code",
   "execution_count": 38,
   "metadata": {},
   "outputs": [
    {
     "data": {
      "image/png": "[encoded data removed]",
      "text/plain": [
       "<Figure size 432x288 with 1 Axes>"
      ]
     },
     "metadata": {
      "needs_background": "light"
     },
     "output_type": "display_data"
    }
   ],
   "source": [
    "# Build the scatter plot for latitude vs. max temperature.\n",
    "plt.scatter(lats,\n",
    "            max_temps,\n",
    "            edgecolor=\"black\", linewidths=1, marker=\"o\",\n",
    "            alpha=0.8, label=\"Cities\")\n",
    "\n",
    "# Incorporate the other graph properties.\n",
    "plt.title(f\"City Latitude vs. Max Temperature \"+ time.strftime(\"%x\"))\n",
    "plt.ylabel(\"Max Temperature (F)\")\n",
    "plt.xlabel(\"Latitude\")\n",
    "plt.grid(True)\n",
    "\n",
    "# Save the figure.\n",
    "plt.savefig(\"weather_data/Fig1.png\")\n",
    "\n",
    "# Show plot.\n",
    "plt.show()"
   ]
  },
  {
   "cell_type": "code",
   "execution_count": 39,
   "metadata": {},
   "outputs": [
    {
     "data": {
      "image/png": "[encoded data removed]",
      "text/plain": [
       "<Figure size 432x288 with 1 Axes>"
      ]
     },
     "metadata": {
      "needs_background": "light"
     },
     "output_type": "display_data"
    }
   ],
   "source": [
    "# Build the scatter plots for latitude vs. humidity.\n",
    "plt.scatter(lats,\n",
    "            humidity,\n",
    "            edgecolor=\"black\", linewidths=1, marker=\"o\",\n",
    "            alpha=0.8, label=\"Cities\")\n",
    "\n",
    "# Incorporate the other graph properties.\n",
    "plt.title(f\"City Latitude vs. Humidity \"+ time.strftime(\"%x\"))\n",
    "plt.ylabel(\"Humidity (%)\")\n",
    "plt.xlabel(\"Latitude\")\n",
    "plt.grid(True)\n",
    "# Save the figure.\n",
    "plt.savefig(\"weather_data/Fig2.png\")\n",
    "# Show plot.\n",
    "plt.show()"
   ]
  },
  {
   "cell_type": "code",
   "execution_count": 40,
   "metadata": {},
   "outputs": [
    {
     "data": {
      "image/png": "[encoded data removed]",
      "text/plain": [
       "<Figure size 432x288 with 1 Axes>"
      ]
     },
     "metadata": {
      "needs_background": "light"
     },
     "output_type": "display_data"
    }
   ],
   "source": [
    "# Build the scatter plots for latitude vs. cloudiness.\n",
    "plt.scatter(lats,\n",
    "            cloudiness,\n",
    "            edgecolor=\"black\", linewidths=1, marker=\"o\",\n",
    "            alpha=0.8, label=\"Cities\")\n",
    "\n",
    "# Incorporate the other graph properties.\n",
    "plt.title(f\"City Latitude vs. Cloudiness (%) \"+ time.strftime(\"%x\"))\n",
    "plt.ylabel(\"Cloudiness (%)\")\n",
    "plt.xlabel(\"Latitude\")\n",
    "plt.grid(True)\n",
    "# Save the figure.\n",
    "plt.savefig(\"weather_data/Fig3.png\")\n",
    "# Show plot.\n",
    "plt.show()"
   ]
  },
  {
   "cell_type": "code",
   "execution_count": 41,
   "metadata": {},
   "outputs": [
    {
     "data": {
      "image/png": "[encoded data removed]",
      "text/plain": [
       "<Figure size 432x288 with 1 Axes>"
      ]
     },
     "metadata": {
      "needs_background": "light"
     },
     "output_type": "display_data"
    }
   ],
   "source": [
    "# Build the scatter plots for latitude vs. wind speed.\n",
    "plt.scatter(lats,\n",
    "            wind_speed,\n",
    "            edgecolor=\"black\", linewidths=1, marker=\"o\",\n",
    "            alpha=0.8, label=\"Cities\")\n",
    "\n",
    "# Incorporate the other graph properties.\n",
    "plt.title(f\"City Latitude vs. Wind Speed \"+ time.strftime(\"%x\"))\n",
    "plt.ylabel(\"Wind Speed (mph)\")\n",
    "plt.xlabel(\"Latitude\")\n",
    "plt.grid(True)\n",
    "# Save the figure.\n",
    "plt.savefig(\"weather_data/Fig4.png\")\n",
    "# Show plot.\n",
    "plt.show()"
   ]
  },
  {
   "cell_type": "markdown",
   "metadata": {},
   "source": [
    "# linear rigression"
   ]
  },
  {
   "cell_type": "code",
   "execution_count": 42,
   "metadata": {},
   "outputs": [],
   "source": [
    "# Import linear regression from the SciPy stats module.\n",
    "from scipy.stats import linregress\n"
   ]
  },
  {
   "cell_type": "code",
   "execution_count": 43,
   "metadata": {},
   "outputs": [],
   "source": [
    "# Create an equal number of latitudes and temperatures.\n",
    "lats = [42.5, 43.9, 8.1, 36.8, 79.9, 69.1, 25.7, 15.3, 12.7, 64.5]\n",
    "temps = [80.5, 75.3, 90.9, 90.0, 40.4, 62.3, 85.4, 79.6, 72.5, 72.0]"
   ]
  },
  {
   "cell_type": "code",
   "execution_count": 44,
   "metadata": {},
   "outputs": [
    {
     "name": "stdout",
     "output_type": "stream",
     "text": [
      "y = -0.45x + 92.94\n",
      "The p-value is: 0.011\n"
     ]
    }
   ],
   "source": [
    "# Perform linear regression.\n",
    "(slope, intercept, r_value, p_value, std_err) = linregress(lats, temps)\n",
    "# Get the equation of the line.\n",
    "line_eq = \"y = \" + str(round(slope,2)) + \"x + \" + str(round(intercept,2))\n",
    "print(line_eq)\n",
    "print(f\"The p-value is: {p_value:.3f}\")"
   ]
  },
  {
   "cell_type": "code",
   "execution_count": 45,
   "metadata": {},
   "outputs": [],
   "source": [
    "# Calculate the regression line \"y values\" from the slope and intercept.\n",
    "regress_values = [(lat * slope + intercept) for lat in lats]"
   ]
  },
  {
   "cell_type": "code",
   "execution_count": 46,
   "metadata": {},
   "outputs": [
    {
     "data": {
      "image/png": "[encoded data removed]",
      "text/plain": [
       "<Figure size 432x288 with 1 Axes>"
      ]
     },
     "metadata": {
      "needs_background": "light"
     },
     "output_type": "display_data"
    }
   ],
   "source": [
    "# Import Matplotlib.\n",
    "import matplotlib.pyplot as plt\n",
    "# Create a scatter plot of the x and y values.\n",
    "plt.scatter(lats,temps)\n",
    "# Plot the regression line with the x-values and the y coordinates based on the intercept and slope.\n",
    "plt.plot(lats,regress_values,\"r\")\n",
    "# Annotate the text for the line equation and add its coordinates.\n",
    "plt.annotate(line_eq, (10,40), fontsize=15, color=\"red\")\n",
    "plt.xlabel('Latitude')\n",
    "plt.ylabel('Temp')\n",
    "plt.show()"
   ]
  },
  {
   "cell_type": "markdown",
   "metadata": {},
   "source": [
    "# linear regresion over"
   ]
  },
  {
   "cell_type": "code",
   "execution_count": 69,
   "metadata": {},
   "outputs": [],
   "source": [
    "# Create a function to create perform linear regression on the weather data\n",
    "# and plot a regression line and the equation with the data.  \n",
    "def plot_linear_regression(x_values, y_values, title, y_label, text_coordinates):\n",
    "    \n",
    "    # Run regression on hemisphere weather data.\n",
    "    (slope, intercept, r_value, p_value, std_err) = linregress(x_values, y_values)\n",
    "    \n",
    "    # Calculate the regression line \"y values\" from the slope and intercept.\n",
    "    regress_values = x_values * slope + intercept\n",
    "    # Get the equation of the line.\n",
    "    line_eq = \"y = \" + str(round(slope,2)) + \"x + \" + str(round(intercept,2))\n",
    "    # Create a scatter plot and plot the regression line.\n",
    "    plt.scatter(x_values,y_values)\n",
    "    plt.plot(x_values,regress_values,\"r\")\n",
    "    # Annotate the text for the line equation.\n",
    "    plt.annotate(line_eq, text_coordinates, fontsize=8, color=\"red\")\n",
    "    plt.xlabel('Latitude')\n",
    "    plt.ylabel(y_label)\n",
    "    plt.show()\n"
   ]
  },
  {
   "cell_type": "code",
   "execution_count": 70,
   "metadata": {},
   "outputs": [],
   "source": [
    "index13 = city_data_df.loc[13]"
   ]
  },
  {
   "cell_type": "code",
   "execution_count": 71,
   "metadata": {},
   "outputs": [
    {
     "data": {
      "text/plain": [
       "City                    Busselton\n",
       "Country                        AU\n",
       "Date          2020-06-24 02:36:52\n",
       "Lat                        -33.65\n",
       "Lng                        115.33\n",
       "Max Temp                    62.01\n",
       "Humidity                       44\n",
       "Cloudiness                     99\n",
       "Wind Speed                  12.15\n",
       "Name: 13, dtype: object"
      ]
     },
     "execution_count": 71,
     "metadata": {},
     "output_type": "execute_result"
    }
   ],
   "source": [
    "index13"
   ]
  },
  {
   "cell_type": "code",
   "execution_count": 72,
   "metadata": {},
   "outputs": [
    {
     "data": {
      "text/plain": [
       "0       True\n",
       "1      False\n",
       "2       True\n",
       "3      False\n",
       "4      False\n",
       "       ...  \n",
       "566    False\n",
       "567    False\n",
       "568    False\n",
       "569    False\n",
       "570     True\n",
       "Name: Lat, Length: 571, dtype: bool"
      ]
     },
     "execution_count": 72,
     "metadata": {},
     "output_type": "execute_result"
    }
   ],
   "source": [
    "city_data_df[\"Lat\"] >= 0"
   ]
  },
  {
   "cell_type": "code",
   "execution_count": 73,
   "metadata": {},
   "outputs": [
    {
     "data": {
      "text/html": [
       "<div>\n",
       "<style scoped>\n",
       "    .dataframe tbody tr th:only-of-type {\n",
       "        vertical-align: middle;\n",
       "    }\n",
       "\n",
       "    .dataframe tbody tr th {\n",
       "        vertical-align: top;\n",
       "    }\n",
       "\n",
       "    .dataframe thead th {\n",
       "        text-align: right;\n",
       "    }\n",
       "</style>\n",
       "<table border=\"1\" class=\"dataframe\">\n",
       "  <thead>\n",
       "    <tr style=\"text-align: right;\">\n",
       "      <th></th>\n",
       "      <th>City</th>\n",
       "      <th>Country</th>\n",
       "      <th>Date</th>\n",
       "      <th>Lat</th>\n",
       "      <th>Lng</th>\n",
       "      <th>Max Temp</th>\n",
       "      <th>Humidity</th>\n",
       "      <th>Cloudiness</th>\n",
       "      <th>Wind Speed</th>\n",
       "    </tr>\n",
       "  </thead>\n",
       "  <tbody>\n",
       "    <tr>\n",
       "      <th>0</th>\n",
       "      <td>Tasiilaq</td>\n",
       "      <td>GL</td>\n",
       "      <td>2020-06-24 02:34:33</td>\n",
       "      <td>65.61</td>\n",
       "      <td>-37.64</td>\n",
       "      <td>42.80</td>\n",
       "      <td>81</td>\n",
       "      <td>100</td>\n",
       "      <td>1.21</td>\n",
       "    </tr>\n",
       "    <tr>\n",
       "      <th>2</th>\n",
       "      <td>Chokurdakh</td>\n",
       "      <td>RU</td>\n",
       "      <td>2020-06-24 02:36:51</td>\n",
       "      <td>70.63</td>\n",
       "      <td>147.92</td>\n",
       "      <td>76.69</td>\n",
       "      <td>26</td>\n",
       "      <td>49</td>\n",
       "      <td>8.08</td>\n",
       "    </tr>\n",
       "    <tr>\n",
       "      <th>5</th>\n",
       "      <td>Talnakh</td>\n",
       "      <td>RU</td>\n",
       "      <td>2020-06-24 02:35:38</td>\n",
       "      <td>69.49</td>\n",
       "      <td>88.40</td>\n",
       "      <td>62.60</td>\n",
       "      <td>55</td>\n",
       "      <td>100</td>\n",
       "      <td>6.71</td>\n",
       "    </tr>\n",
       "    <tr>\n",
       "      <th>6</th>\n",
       "      <td>Dahanu</td>\n",
       "      <td>IN</td>\n",
       "      <td>2020-06-24 02:36:51</td>\n",
       "      <td>19.97</td>\n",
       "      <td>72.73</td>\n",
       "      <td>84.54</td>\n",
       "      <td>77</td>\n",
       "      <td>40</td>\n",
       "      <td>14.16</td>\n",
       "    </tr>\n",
       "    <tr>\n",
       "      <th>7</th>\n",
       "      <td>San Quintin</td>\n",
       "      <td>MX</td>\n",
       "      <td>2020-06-24 02:36:52</td>\n",
       "      <td>30.48</td>\n",
       "      <td>-115.95</td>\n",
       "      <td>64.54</td>\n",
       "      <td>85</td>\n",
       "      <td>97</td>\n",
       "      <td>14.20</td>\n",
       "    </tr>\n",
       "    <tr>\n",
       "      <th>...</th>\n",
       "      <td>...</td>\n",
       "      <td>...</td>\n",
       "      <td>...</td>\n",
       "      <td>...</td>\n",
       "      <td>...</td>\n",
       "      <td>...</td>\n",
       "      <td>...</td>\n",
       "      <td>...</td>\n",
       "      <td>...</td>\n",
       "    </tr>\n",
       "    <tr>\n",
       "      <th>562</th>\n",
       "      <td>Laizhou</td>\n",
       "      <td>CN</td>\n",
       "      <td>2020-06-24 02:37:38</td>\n",
       "      <td>37.18</td>\n",
       "      <td>119.93</td>\n",
       "      <td>73.99</td>\n",
       "      <td>76</td>\n",
       "      <td>78</td>\n",
       "      <td>18.75</td>\n",
       "    </tr>\n",
       "    <tr>\n",
       "      <th>563</th>\n",
       "      <td>Roald</td>\n",
       "      <td>NO</td>\n",
       "      <td>2020-06-24 02:37:38</td>\n",
       "      <td>62.58</td>\n",
       "      <td>6.13</td>\n",
       "      <td>57.20</td>\n",
       "      <td>93</td>\n",
       "      <td>88</td>\n",
       "      <td>4.70</td>\n",
       "    </tr>\n",
       "    <tr>\n",
       "      <th>564</th>\n",
       "      <td>Vasyshcheve</td>\n",
       "      <td>UA</td>\n",
       "      <td>2020-06-24 02:37:38</td>\n",
       "      <td>49.83</td>\n",
       "      <td>36.33</td>\n",
       "      <td>62.60</td>\n",
       "      <td>88</td>\n",
       "      <td>90</td>\n",
       "      <td>8.95</td>\n",
       "    </tr>\n",
       "    <tr>\n",
       "      <th>565</th>\n",
       "      <td>Mecca</td>\n",
       "      <td>SA</td>\n",
       "      <td>2020-06-24 02:35:15</td>\n",
       "      <td>21.43</td>\n",
       "      <td>39.83</td>\n",
       "      <td>92.39</td>\n",
       "      <td>11</td>\n",
       "      <td>2</td>\n",
       "      <td>15.61</td>\n",
       "    </tr>\n",
       "    <tr>\n",
       "      <th>570</th>\n",
       "      <td>Adamas</td>\n",
       "      <td>GR</td>\n",
       "      <td>2020-06-24 02:37:39</td>\n",
       "      <td>36.73</td>\n",
       "      <td>24.43</td>\n",
       "      <td>71.60</td>\n",
       "      <td>94</td>\n",
       "      <td>0</td>\n",
       "      <td>6.93</td>\n",
       "    </tr>\n",
       "  </tbody>\n",
       "</table>\n",
       "<p>375 rows × 9 columns</p>\n",
       "</div>"
      ],
      "text/plain": [
       "            City Country                 Date    Lat     Lng  Max Temp  \\\n",
       "0       Tasiilaq      GL  2020-06-24 02:34:33  65.61  -37.64     42.80   \n",
       "2     Chokurdakh      RU  2020-06-24 02:36:51  70.63  147.92     76.69   \n",
       "5        Talnakh      RU  2020-06-24 02:35:38  69.49   88.40     62.60   \n",
       "6         Dahanu      IN  2020-06-24 02:36:51  19.97   72.73     84.54   \n",
       "7    San Quintin      MX  2020-06-24 02:36:52  30.48 -115.95     64.54   \n",
       "..           ...     ...                  ...    ...     ...       ...   \n",
       "562      Laizhou      CN  2020-06-24 02:37:38  37.18  119.93     73.99   \n",
       "563        Roald      NO  2020-06-24 02:37:38  62.58    6.13     57.20   \n",
       "564  Vasyshcheve      UA  2020-06-24 02:37:38  49.83   36.33     62.60   \n",
       "565        Mecca      SA  2020-06-24 02:35:15  21.43   39.83     92.39   \n",
       "570       Adamas      GR  2020-06-24 02:37:39  36.73   24.43     71.60   \n",
       "\n",
       "     Humidity  Cloudiness  Wind Speed  \n",
       "0          81         100        1.21  \n",
       "2          26          49        8.08  \n",
       "5          55         100        6.71  \n",
       "6          77          40       14.16  \n",
       "7          85          97       14.20  \n",
       "..        ...         ...         ...  \n",
       "562        76          78       18.75  \n",
       "563        93          88        4.70  \n",
       "564        88          90        8.95  \n",
       "565        11           2       15.61  \n",
       "570        94           0        6.93  \n",
       "\n",
       "[375 rows x 9 columns]"
      ]
     },
     "execution_count": 73,
     "metadata": {},
     "output_type": "execute_result"
    }
   ],
   "source": [
    "city_data_df.loc[(city_data_df[\"Lat\"] >= 0)]"
   ]
  },
  {
   "cell_type": "code",
   "execution_count": 74,
   "metadata": {},
   "outputs": [
    {
     "data": {
      "text/plain": [
       "375"
      ]
     },
     "execution_count": 74,
     "metadata": {},
     "output_type": "execute_result"
    }
   ],
   "source": [
    "len(city_data_df.loc[(city_data_df[\"Lat\"] >= 0)])"
   ]
  },
  {
   "cell_type": "code",
   "execution_count": 75,
   "metadata": {},
   "outputs": [],
   "source": [
    "# Create Northern and Southern Hemisphere DataFrames.\n",
    "northern_hemi_df = city_data_df.loc[(city_data_df[\"Lat\"] >= 0)]\n",
    "southern_hemi_df = city_data_df.loc[(city_data_df[\"Lat\"] < 0)]"
   ]
  },
  {
   "cell_type": "code",
   "execution_count": 76,
   "metadata": {},
   "outputs": [
    {
     "data": {
      "image/png": "[encoded data removed]",
      "text/plain": [
       "<Figure size 432x288 with 1 Axes>"
      ]
     },
     "metadata": {
      "needs_background": "light"
     },
     "output_type": "display_data"
    }
   ],
   "source": [
    "# Linear regression on the Northern Hemisphere\n",
    "x_values = northern_hemi_df[\"Lat\"]\n",
    "y_values = northern_hemi_df[\"Max Temp\"]\n",
    "# Call the function.\n",
    "plot_linear_regression(x_values, y_values, 'Linear Regression on the Northern Hemisphere \\n for Maximum Temperature', 'Max Temp',(10,40))"
   ]
  },
  {
   "cell_type": "code",
   "execution_count": 78,
   "metadata": {},
   "outputs": [
    {
     "data": {
      "image/png": "[encoded data removed]",
      "text/plain": [
       "<Figure size 432x288 with 1 Axes>"
      ]
     },
     "metadata": {
      "needs_background": "light"
     },
     "output_type": "display_data"
    }
   ],
   "source": [
    "# Linear regression on the Northern Hemisphere\n",
    "x_values = southern_hemi_df[\"Lat\"]\n",
    "y_values = southern_hemi_df[\"Max Temp\"]\n",
    "# Call the function.\n",
    "plot_linear_regression(x_values, y_values, 'Linear Regression on the Southern Hemisphere \\n for Maximum Temperature', 'Max Temp',(10,40))"
   ]
  },
  {
   "cell_type": "code",
   "execution_count": 81,
   "metadata": {},
   "outputs": [
    {
     "data": {
      "image/png": "[encoded data removed]",
      "text/plain": [
       "<Figure size 432x288 with 1 Axes>"
      ]
     },
     "metadata": {
      "needs_background": "light"
     },
     "output_type": "display_data"
    }
   ],
   "source": [
    "# Linear regression on the Northern Hemisphere\n",
    "x_values = northern_hemi_df[\"Lat\"]\n",
    "y_values = northern_hemi_df[\"Humidity\"]\n",
    "# Call the function.\n",
    "plot_linear_regression(x_values, y_values,'Linear Regression on the Northern Hemisphere \\n for % Humidity', '% Humidity',(40,10))"
   ]
  },
  {
   "cell_type": "code",
   "execution_count": 83,
   "metadata": {},
   "outputs": [
    {
     "data": {
      "image/png": "[encoded data removed]",
      "text/plain": [
       "<Figure size 432x288 with 1 Axes>"
      ]
     },
     "metadata": {
      "needs_background": "light"
     },
     "output_type": "display_data"
    }
   ],
   "source": [
    "# Linear regression on the Southern Hemisphere\n",
    "x_values = southern_hemi_df[\"Lat\"]\n",
    "y_values = southern_hemi_df[\"Humidity\"]\n",
    "# Call the function.\n",
    "plot_linear_regression(x_values, y_values, 'Linear Regression on the Southern Hemisphere \\n for % Humidity', '% Humidity',(-50,15))"
   ]
  },
  {
   "cell_type": "code",
   "execution_count": 88,
   "metadata": {},
   "outputs": [
    {
     "data": {
      "image/png": "[encoded data removed]",
      "text/plain": [
       "<Figure size 432x288 with 1 Axes>"
      ]
     },
     "metadata": {
      "needs_background": "light"
     },
     "output_type": "display_data"
    }
   ],
   "source": [
    "# Linear regression on the Northern Hemisphere\n",
    "x_values = northern_hemi_df[\"Lat\"]\n",
    "y_values = northern_hemi_df[\"Cloudiness\"]\n",
    "# Call the function.\n",
    "plot_linear_regression(x_values, y_values,'Linear Regression on the Northern Hemisphere \\n for % Humidity', 'Cloudiness',(-50,60))"
   ]
  },
  {
   "cell_type": "code",
   "execution_count": 87,
   "metadata": {},
   "outputs": [
    {
     "data": {
      "image/png": "[encoded data removed]",
      "text/plain": [
       "<Figure size 432x288 with 1 Axes>"
      ]
     },
     "metadata": {
      "needs_background": "light"
     },
     "output_type": "display_data"
    }
   ],
   "source": [
    "# Linear regression on the Northern Hemisphere\n",
    "x_values = southern_hemi_df[\"Lat\"]\n",
    "y_values = southern_hemi_df[\"Cloudiness\"]\n",
    "# Call the function.\n",
    "plot_linear_regression(x_values, y_values,'Linear Regression on the Southern Hemisphere \\n for % Humidity', 'Cloudiness',(-50,60))"
   ]
  },
  {
   "cell_type": "code",
   "execution_count": 93,
   "metadata": {},
   "outputs": [
    {
     "data": {
      "image/png": "[encoded data removed]",
      "text/plain": [
       "<Figure size 432x288 with 1 Axes>"
      ]
     },
     "metadata": {
      "needs_background": "light"
     },
     "output_type": "display_data"
    }
   ],
   "source": [
    "# Linear regression on the Northern Hemisphere\n",
    "x_values = northern_hemi_df[\"Lat\"]\n",
    "y_values = northern_hemi_df[\"Wind Speed\"]\n",
    "# Call the function.\n",
    "plot_linear_regression(x_values, y_values, 'Linear Regression on the Northern Hemisphere \\n for Wind Speed', 'Wind Speed',(40,35))"
   ]
  },
  {
   "cell_type": "code",
   "execution_count": 95,
   "metadata": {},
   "outputs": [
    {
     "data": {
      "image/png": "[encoded data removed]",
      "text/plain": [
       "<Figure size 432x288 with 1 Axes>"
      ]
     },
     "metadata": {
      "needs_background": "light"
     },
     "output_type": "display_data"
    }
   ],
   "source": [
    "# Linear regression on the Southern Hemisphere\n",
    "x_values = southern_hemi_df[\"Lat\"]\n",
    "y_values = southern_hemi_df[\"Wind Speed\"]\n",
    "# Call the function.\n",
    "plot_linear_regression(x_values, y_values, 'Linear Regression on the Southern Hemisphere \\n for Wind Speed', 'Wind Speed',(-50,35))"
   ]
  },
  {
   "cell_type": "markdown",
   "metadata": {},
   "source": [
    "# gmaps\n",
    "\n"
   ]
  },
  {
   "cell_type": "code",
   "execution_count": null,
   "metadata": {},
   "outputs": [],
   "source": []
  }
 ],
 "metadata": {
  "kernelspec": {
   "display_name": "PythonData",
   "language": "python",
   "name": "pythondata"
  },
  "language_info": {
   "codemirror_mode": {
    "name": "ipython",
    "version": 3
   },
   "file_extension": ".py",
   "mimetype": "text/x-python",
   "name": "python",
   "nbconvert_exporter": "python",
   "pygments_lexer": "ipython3",
   "version": "3.7.6"
  }
 },
 "nbformat": 4,
 "nbformat_minor": 4
}
